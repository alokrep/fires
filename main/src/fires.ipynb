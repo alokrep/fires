{
  "cells": [
    {
      "cell_type": "markdown",
      "metadata": {
        "id": "view-in-github",
        "colab_type": "text"
      },
      "source": [
        "<a href=\"https://colab.research.google.com/github/alokrep/fires/blob/main/main/src/fires.ipynb\" target=\"_parent\"><img src=\"https://colab.research.google.com/assets/colab-badge.svg\" alt=\"Open In Colab\"/></a>"
      ]
    },
    {
      "cell_type": "code",
      "execution_count": 1,
      "metadata": {
        "id": "PKxzGEtBKHLu"
      },
      "outputs": [],
      "source": [
        "import pandas as pd\n",
        "import numpy as np\n",
        "import os\n",
        "import matplotlib.pyplot as plt"
      ]
    },
    {
      "cell_type": "code",
      "execution_count": 2,
      "metadata": {
        "colab": {
          "base_uri": "https://localhost:8080/"
        },
        "id": "FZ6xl1Gisdht",
        "outputId": "73afe3fe-6861-4c1e-b1e1-19bfe9a7e4e4"
      },
      "outputs": [
        {
          "output_type": "stream",
          "name": "stdout",
          "text": [
            "Mounted at /content/drive\n"
          ]
        }
      ],
      "source": [
        "from google.colab import drive\n",
        "drive.mount('/content/drive')"
      ]
    },
    {
      "cell_type": "code",
      "execution_count": 3,
      "metadata": {
        "id": "S1SyZomaBRUf"
      },
      "outputs": [],
      "source": [
        "filepath = '/content/drive/MyDrive/Neal/DataScience/fires'\n",
        "os.chdir(filepath)"
      ]
    },
    {
      "cell_type": "code",
      "execution_count": 4,
      "metadata": {
        "id": "JrZ8-WCIT9mG"
      },
      "outputs": [],
      "source": [
        "# This took 132 seconds\n",
        "#gen = pd.read_csv(\"Firedata.csv\", chunksize=1000000)\n",
        "#fires = pd.concat((x.query('FPA_ID.notna()') for x in gen), ignore_index=True)"
      ]
    },
    {
      "cell_type": "code",
      "execution_count": 5,
      "metadata": {
        "id": "eRFEHvuoP-7a"
      },
      "outputs": [],
      "source": [
        "#fires = fires.reset_index()\n",
        "#fires['index'] = fires['index']+1\n",
        "#fires['OBJECTID'] = fires['index']\n",
        "#del fires['index']\n",
        "#good = fires[np.isnan(fires['Shape'])]\n",
        "#bad = fires.dropna(subset=[\"Shape\"])\n",
        "#reorder = [bad.columns[0]] + [bad.columns[-1]] + list(bad.columns[1:-1])\n",
        "#bad = bad[reorder]\n",
        "#bad.columns = fires.columns\n",
        "#fires = pd.concat([good, bad])\n",
        "#fires.to_csv(\"fires_cleaned1.csv\", index=False)"
      ]
    },
    {
      "cell_type": "code",
      "execution_count": 6,
      "metadata": {
        "id": "dIlnN3UK7jyl",
        "colab": {
          "base_uri": "https://localhost:8080/"
        },
        "outputId": "e011c181-ce5a-47fb-973c-58a3538114c9"
      },
      "outputs": [
        {
          "output_type": "stream",
          "name": "stderr",
          "text": [
            "<ipython-input-6-23846ac61f4d>:1: DtypeWarning: Columns (8,10,11,12,13,14,15,16,17,18,25,26,35,37) have mixed types. Specify dtype option on import or set low_memory=False.\n",
            "  fires = pd.read_csv(\"fires_cleaned.csv\")\n"
          ]
        }
      ],
      "source": [
        "fires = pd.read_csv(\"fires_cleaned.csv\")"
      ]
    },
    {
      "cell_type": "markdown",
      "metadata": {
        "id": "nOMvgH2csUcj"
      },
      "source": [
        "## County Demographics"
      ]
    },
    {
      "cell_type": "code",
      "execution_count": 7,
      "metadata": {
        "id": "yRaANT3hsZZp"
      },
      "outputs": [],
      "source": [
        "counties = pd.read_csv(\"https://corgis-edu.github.io/corgis/datasets/csv/county_demographics/county_demographics.csv\")"
      ]
    },
    {
      "cell_type": "code",
      "execution_count": 8,
      "metadata": {
        "id": "H9QIEvZitXDQ"
      },
      "outputs": [],
      "source": [
        "vtype = np.vectorize(type)"
      ]
    },
    {
      "cell_type": "code",
      "execution_count": 9,
      "metadata": {
        "id": "IIklcuoEtMoS"
      },
      "outputs": [],
      "source": [
        "cfires = fires.dropna(subset=['FIPS_NAME'])"
      ]
    },
    {
      "cell_type": "code",
      "execution_count": 10,
      "metadata": {
        "id": "dUgitTfdscgQ",
        "colab": {
          "base_uri": "https://localhost:8080/"
        },
        "outputId": "74935c1e-71ba-4956-a201-e5caab4de7e6"
      },
      "outputs": [
        {
          "output_type": "execute_result",
          "data": {
            "text/plain": [
              "1805"
            ]
          },
          "metadata": {},
          "execution_count": 10
        }
      ],
      "source": [
        "len(np.unique(cfires['FIPS_NAME']))"
      ]
    },
    {
      "cell_type": "code",
      "execution_count": 11,
      "metadata": {
        "id": "dgcK58YespBQ",
        "colab": {
          "base_uri": "https://localhost:8080/"
        },
        "outputId": "9e71b87f-cba3-4335-89d7-56e0583cf1b8"
      },
      "outputs": [
        {
          "output_type": "execute_result",
          "data": {
            "text/plain": [
              "1874"
            ]
          },
          "metadata": {},
          "execution_count": 11
        }
      ],
      "source": [
        "len(np.unique(counties['County']))"
      ]
    },
    {
      "cell_type": "code",
      "execution_count": 12,
      "metadata": {
        "id": "fGNVkV9EvGxR"
      },
      "outputs": [],
      "source": [
        "fire_counties = fires.groupby(by=['FIPS_NAME', 'STATE'], as_index=False).agg({'OBJECTID':\"count\"})"
      ]
    },
    {
      "cell_type": "code",
      "execution_count": 13,
      "metadata": {
        "id": "qEuzaB6avnej",
        "colab": {
          "base_uri": "https://localhost:8080/"
        },
        "outputId": "3d1b6c68-a2c6-482c-d224-91034e291f4f"
      },
      "outputs": [
        {
          "output_type": "execute_result",
          "data": {
            "text/plain": [
              "2957"
            ]
          },
          "metadata": {},
          "execution_count": 13
        }
      ],
      "source": [
        "len(fire_counties)"
      ]
    },
    {
      "cell_type": "code",
      "execution_count": 14,
      "metadata": {
        "id": "c3M0MJM1vr70",
        "colab": {
          "base_uri": "https://localhost:8080/"
        },
        "outputId": "744d44be-1249-4759-876a-ed410a1cf1c1"
      },
      "outputs": [
        {
          "output_type": "execute_result",
          "data": {
            "text/plain": [
              "3139"
            ]
          },
          "metadata": {},
          "execution_count": 14
        }
      ],
      "source": [
        "len(counties)"
      ]
    },
    {
      "cell_type": "code",
      "execution_count": 15,
      "metadata": {
        "id": "Mv93bxTfvtb-",
        "colab": {
          "base_uri": "https://localhost:8080/",
          "height": 652
        },
        "outputId": "16bb886a-bf2c-407d-d984-bb993d0dd605"
      },
      "outputs": [
        {
          "output_type": "execute_result",
          "data": {
            "text/plain": [
              "             FIPS_NAME STATE  OBJECTID            County State  \\\n",
              "0     Abbeville County    SC       968  Abbeville County    SC   \n",
              "1        Acadia Parish    LA        10     Acadia Parish    LA   \n",
              "2      Accomack County    VA       172   Accomack County    VA   \n",
              "3           Ada County    ID      2315        Ada County    ID   \n",
              "4         Adair County    IA        62      Adair County    IA   \n",
              "...                ...   ...       ...               ...   ...   \n",
              "2930       Yuma County    AZ       672       Yuma County    AZ   \n",
              "2931       Yuma County    CO       235       Yuma County    CO   \n",
              "2932     Zapata County    TX       242     Zapata County    TX   \n",
              "2933     Zavala County    TX       228     Zavala County    TX   \n",
              "2934    Ziebach County    SD        85    Ziebach County    SD   \n",
              "\n",
              "      Age.Percent 65 and Older  Age.Percent Under 18 Years  \\\n",
              "0                         22.4                        19.8   \n",
              "1                         15.8                        25.8   \n",
              "2                         24.6                        20.7   \n",
              "3                         14.9                        23.2   \n",
              "4                         23.0                        21.8   \n",
              "...                        ...                         ...   \n",
              "2930                      19.3                        25.1   \n",
              "2931                      18.7                        27.4   \n",
              "2932                      13.2                        33.1   \n",
              "2933                      14.6                        28.4   \n",
              "2934                       9.6                        27.5   \n",
              "\n",
              "      Age.Percent Under 5 Years  Education.Bachelor's Degree or Higher  \\\n",
              "0                           4.7                                   15.6   \n",
              "1                           6.9                                   13.3   \n",
              "2                           5.6                                   19.5   \n",
              "3                           5.6                                   38.5   \n",
              "4                           5.6                                   18.5   \n",
              "...                         ...                                    ...   \n",
              "2930                        7.1                                   15.0   \n",
              "2931                        7.5                                   21.8   \n",
              "2932                        8.6                                   11.6   \n",
              "2933                        7.2                                   10.9   \n",
              "2934                        5.5                                   16.4   \n",
              "\n",
              "      Education.High School or Higher  ...  \\\n",
              "0                                81.7  ...   \n",
              "1                                79.0  ...   \n",
              "2                                81.5  ...   \n",
              "3                                95.2  ...   \n",
              "4                                94.2  ...   \n",
              "...                               ...  ...   \n",
              "2930                             73.3  ...   \n",
              "2931                             88.6  ...   \n",
              "2932                             61.9  ...   \n",
              "2933                             66.9  ...   \n",
              "2934                             84.1  ...   \n",
              "\n",
              "      Population.Population per Square Mile  \\\n",
              "0                                      51.8   \n",
              "1                                      94.3   \n",
              "2                                      73.8   \n",
              "3                                     372.8   \n",
              "4                                      13.5   \n",
              "...                                     ...   \n",
              "2930                                   35.5   \n",
              "2931                                    4.2   \n",
              "2932                                   14.0   \n",
              "2933                                    9.0   \n",
              "2934                                    1.4   \n",
              "\n",
              "      Sales.Accommodation and Food Services Sales  Sales.Retail Sales  \\\n",
              "0                                           12507               91371   \n",
              "1                                           52706              602739   \n",
              "2                                           53568              348195   \n",
              "3                                          763099             5766679   \n",
              "4                                              -1               63002   \n",
              "...                                           ...                 ...   \n",
              "2930                                       307540             1995974   \n",
              "2931                                         8501              125565   \n",
              "2932                                           -1               75681   \n",
              "2933                                         8808               45596   \n",
              "2934                                           -1               15757   \n",
              "\n",
              "      Employment.Firms.Total  Employment.Firms.Women-Owned  \\\n",
              "0                       1450                           543   \n",
              "1                       4664                          1516   \n",
              "2                       2997                           802   \n",
              "3                      41789                         14661   \n",
              "4                        914                           304   \n",
              "...                      ...                           ...   \n",
              "2930                   10846                          4298   \n",
              "2931                    1492                           391   \n",
              "2932                    1964                           818   \n",
              "2933                    1232                           486   \n",
              "2934                      78                             0   \n",
              "\n",
              "      Employment.Firms.Men-Owned  Employment.Firms.Minority-Owned  \\\n",
              "0                            689                              317   \n",
              "1                           2629                              705   \n",
              "2                           1716                              335   \n",
              "3                          19409                             3099   \n",
              "4                            499                                0   \n",
              "...                          ...                              ...   \n",
              "2930                        4529                             5749   \n",
              "2931                         797                               45   \n",
              "2932                        1003                             1680   \n",
              "2933                         674                             1062   \n",
              "2934                          42                               29   \n",
              "\n",
              "      Employment.Firms.Nonminority-Owned  Employment.Firms.Veteran-Owned  \\\n",
              "0                                   1080                             187   \n",
              "1                                   3734                             388   \n",
              "2                                   2560                             212   \n",
              "3                                  36701                            3803   \n",
              "4                                    861                             185   \n",
              "...                                  ...                             ...   \n",
              "2930                                4476                             839   \n",
              "2931                                1350                              66   \n",
              "2932                                 235                             181   \n",
              "2933                                 159                              42   \n",
              "2934                                  36                               0   \n",
              "\n",
              "      Employment.Firms.Nonveteran-Owned  \n",
              "0                                  1211  \n",
              "1                                  4007  \n",
              "2                                  2536  \n",
              "3                                 35132  \n",
              "4                                   679  \n",
              "...                                 ...  \n",
              "2930                               9265  \n",
              "2931                               1278  \n",
              "2932                               1738  \n",
              "2933                               1178  \n",
              "2934                                 54  \n",
              "\n",
              "[2935 rows x 46 columns]"
            ],
            "text/html": [
              "\n",
              "  <div id=\"df-0df86997-6876-4999-9ce3-55b92f5d96c9\" class=\"colab-df-container\">\n",
              "    <div>\n",
              "<style scoped>\n",
              "    .dataframe tbody tr th:only-of-type {\n",
              "        vertical-align: middle;\n",
              "    }\n",
              "\n",
              "    .dataframe tbody tr th {\n",
              "        vertical-align: top;\n",
              "    }\n",
              "\n",
              "    .dataframe thead th {\n",
              "        text-align: right;\n",
              "    }\n",
              "</style>\n",
              "<table border=\"1\" class=\"dataframe\">\n",
              "  <thead>\n",
              "    <tr style=\"text-align: right;\">\n",
              "      <th></th>\n",
              "      <th>FIPS_NAME</th>\n",
              "      <th>STATE</th>\n",
              "      <th>OBJECTID</th>\n",
              "      <th>County</th>\n",
              "      <th>State</th>\n",
              "      <th>Age.Percent 65 and Older</th>\n",
              "      <th>Age.Percent Under 18 Years</th>\n",
              "      <th>Age.Percent Under 5 Years</th>\n",
              "      <th>Education.Bachelor's Degree or Higher</th>\n",
              "      <th>Education.High School or Higher</th>\n",
              "      <th>...</th>\n",
              "      <th>Population.Population per Square Mile</th>\n",
              "      <th>Sales.Accommodation and Food Services Sales</th>\n",
              "      <th>Sales.Retail Sales</th>\n",
              "      <th>Employment.Firms.Total</th>\n",
              "      <th>Employment.Firms.Women-Owned</th>\n",
              "      <th>Employment.Firms.Men-Owned</th>\n",
              "      <th>Employment.Firms.Minority-Owned</th>\n",
              "      <th>Employment.Firms.Nonminority-Owned</th>\n",
              "      <th>Employment.Firms.Veteran-Owned</th>\n",
              "      <th>Employment.Firms.Nonveteran-Owned</th>\n",
              "    </tr>\n",
              "  </thead>\n",
              "  <tbody>\n",
              "    <tr>\n",
              "      <th>0</th>\n",
              "      <td>Abbeville County</td>\n",
              "      <td>SC</td>\n",
              "      <td>968</td>\n",
              "      <td>Abbeville County</td>\n",
              "      <td>SC</td>\n",
              "      <td>22.4</td>\n",
              "      <td>19.8</td>\n",
              "      <td>4.7</td>\n",
              "      <td>15.6</td>\n",
              "      <td>81.7</td>\n",
              "      <td>...</td>\n",
              "      <td>51.8</td>\n",
              "      <td>12507</td>\n",
              "      <td>91371</td>\n",
              "      <td>1450</td>\n",
              "      <td>543</td>\n",
              "      <td>689</td>\n",
              "      <td>317</td>\n",
              "      <td>1080</td>\n",
              "      <td>187</td>\n",
              "      <td>1211</td>\n",
              "    </tr>\n",
              "    <tr>\n",
              "      <th>1</th>\n",
              "      <td>Acadia Parish</td>\n",
              "      <td>LA</td>\n",
              "      <td>10</td>\n",
              "      <td>Acadia Parish</td>\n",
              "      <td>LA</td>\n",
              "      <td>15.8</td>\n",
              "      <td>25.8</td>\n",
              "      <td>6.9</td>\n",
              "      <td>13.3</td>\n",
              "      <td>79.0</td>\n",
              "      <td>...</td>\n",
              "      <td>94.3</td>\n",
              "      <td>52706</td>\n",
              "      <td>602739</td>\n",
              "      <td>4664</td>\n",
              "      <td>1516</td>\n",
              "      <td>2629</td>\n",
              "      <td>705</td>\n",
              "      <td>3734</td>\n",
              "      <td>388</td>\n",
              "      <td>4007</td>\n",
              "    </tr>\n",
              "    <tr>\n",
              "      <th>2</th>\n",
              "      <td>Accomack County</td>\n",
              "      <td>VA</td>\n",
              "      <td>172</td>\n",
              "      <td>Accomack County</td>\n",
              "      <td>VA</td>\n",
              "      <td>24.6</td>\n",
              "      <td>20.7</td>\n",
              "      <td>5.6</td>\n",
              "      <td>19.5</td>\n",
              "      <td>81.5</td>\n",
              "      <td>...</td>\n",
              "      <td>73.8</td>\n",
              "      <td>53568</td>\n",
              "      <td>348195</td>\n",
              "      <td>2997</td>\n",
              "      <td>802</td>\n",
              "      <td>1716</td>\n",
              "      <td>335</td>\n",
              "      <td>2560</td>\n",
              "      <td>212</td>\n",
              "      <td>2536</td>\n",
              "    </tr>\n",
              "    <tr>\n",
              "      <th>3</th>\n",
              "      <td>Ada County</td>\n",
              "      <td>ID</td>\n",
              "      <td>2315</td>\n",
              "      <td>Ada County</td>\n",
              "      <td>ID</td>\n",
              "      <td>14.9</td>\n",
              "      <td>23.2</td>\n",
              "      <td>5.6</td>\n",
              "      <td>38.5</td>\n",
              "      <td>95.2</td>\n",
              "      <td>...</td>\n",
              "      <td>372.8</td>\n",
              "      <td>763099</td>\n",
              "      <td>5766679</td>\n",
              "      <td>41789</td>\n",
              "      <td>14661</td>\n",
              "      <td>19409</td>\n",
              "      <td>3099</td>\n",
              "      <td>36701</td>\n",
              "      <td>3803</td>\n",
              "      <td>35132</td>\n",
              "    </tr>\n",
              "    <tr>\n",
              "      <th>4</th>\n",
              "      <td>Adair County</td>\n",
              "      <td>IA</td>\n",
              "      <td>62</td>\n",
              "      <td>Adair County</td>\n",
              "      <td>IA</td>\n",
              "      <td>23.0</td>\n",
              "      <td>21.8</td>\n",
              "      <td>5.6</td>\n",
              "      <td>18.5</td>\n",
              "      <td>94.2</td>\n",
              "      <td>...</td>\n",
              "      <td>13.5</td>\n",
              "      <td>-1</td>\n",
              "      <td>63002</td>\n",
              "      <td>914</td>\n",
              "      <td>304</td>\n",
              "      <td>499</td>\n",
              "      <td>0</td>\n",
              "      <td>861</td>\n",
              "      <td>185</td>\n",
              "      <td>679</td>\n",
              "    </tr>\n",
              "    <tr>\n",
              "      <th>...</th>\n",
              "      <td>...</td>\n",
              "      <td>...</td>\n",
              "      <td>...</td>\n",
              "      <td>...</td>\n",
              "      <td>...</td>\n",
              "      <td>...</td>\n",
              "      <td>...</td>\n",
              "      <td>...</td>\n",
              "      <td>...</td>\n",
              "      <td>...</td>\n",
              "      <td>...</td>\n",
              "      <td>...</td>\n",
              "      <td>...</td>\n",
              "      <td>...</td>\n",
              "      <td>...</td>\n",
              "      <td>...</td>\n",
              "      <td>...</td>\n",
              "      <td>...</td>\n",
              "      <td>...</td>\n",
              "      <td>...</td>\n",
              "      <td>...</td>\n",
              "    </tr>\n",
              "    <tr>\n",
              "      <th>2930</th>\n",
              "      <td>Yuma County</td>\n",
              "      <td>AZ</td>\n",
              "      <td>672</td>\n",
              "      <td>Yuma County</td>\n",
              "      <td>AZ</td>\n",
              "      <td>19.3</td>\n",
              "      <td>25.1</td>\n",
              "      <td>7.1</td>\n",
              "      <td>15.0</td>\n",
              "      <td>73.3</td>\n",
              "      <td>...</td>\n",
              "      <td>35.5</td>\n",
              "      <td>307540</td>\n",
              "      <td>1995974</td>\n",
              "      <td>10846</td>\n",
              "      <td>4298</td>\n",
              "      <td>4529</td>\n",
              "      <td>5749</td>\n",
              "      <td>4476</td>\n",
              "      <td>839</td>\n",
              "      <td>9265</td>\n",
              "    </tr>\n",
              "    <tr>\n",
              "      <th>2931</th>\n",
              "      <td>Yuma County</td>\n",
              "      <td>CO</td>\n",
              "      <td>235</td>\n",
              "      <td>Yuma County</td>\n",
              "      <td>CO</td>\n",
              "      <td>18.7</td>\n",
              "      <td>27.4</td>\n",
              "      <td>7.5</td>\n",
              "      <td>21.8</td>\n",
              "      <td>88.6</td>\n",
              "      <td>...</td>\n",
              "      <td>4.2</td>\n",
              "      <td>8501</td>\n",
              "      <td>125565</td>\n",
              "      <td>1492</td>\n",
              "      <td>391</td>\n",
              "      <td>797</td>\n",
              "      <td>45</td>\n",
              "      <td>1350</td>\n",
              "      <td>66</td>\n",
              "      <td>1278</td>\n",
              "    </tr>\n",
              "    <tr>\n",
              "      <th>2932</th>\n",
              "      <td>Zapata County</td>\n",
              "      <td>TX</td>\n",
              "      <td>242</td>\n",
              "      <td>Zapata County</td>\n",
              "      <td>TX</td>\n",
              "      <td>13.2</td>\n",
              "      <td>33.1</td>\n",
              "      <td>8.6</td>\n",
              "      <td>11.6</td>\n",
              "      <td>61.9</td>\n",
              "      <td>...</td>\n",
              "      <td>14.0</td>\n",
              "      <td>-1</td>\n",
              "      <td>75681</td>\n",
              "      <td>1964</td>\n",
              "      <td>818</td>\n",
              "      <td>1003</td>\n",
              "      <td>1680</td>\n",
              "      <td>235</td>\n",
              "      <td>181</td>\n",
              "      <td>1738</td>\n",
              "    </tr>\n",
              "    <tr>\n",
              "      <th>2933</th>\n",
              "      <td>Zavala County</td>\n",
              "      <td>TX</td>\n",
              "      <td>228</td>\n",
              "      <td>Zavala County</td>\n",
              "      <td>TX</td>\n",
              "      <td>14.6</td>\n",
              "      <td>28.4</td>\n",
              "      <td>7.2</td>\n",
              "      <td>10.9</td>\n",
              "      <td>66.9</td>\n",
              "      <td>...</td>\n",
              "      <td>9.0</td>\n",
              "      <td>8808</td>\n",
              "      <td>45596</td>\n",
              "      <td>1232</td>\n",
              "      <td>486</td>\n",
              "      <td>674</td>\n",
              "      <td>1062</td>\n",
              "      <td>159</td>\n",
              "      <td>42</td>\n",
              "      <td>1178</td>\n",
              "    </tr>\n",
              "    <tr>\n",
              "      <th>2934</th>\n",
              "      <td>Ziebach County</td>\n",
              "      <td>SD</td>\n",
              "      <td>85</td>\n",
              "      <td>Ziebach County</td>\n",
              "      <td>SD</td>\n",
              "      <td>9.6</td>\n",
              "      <td>27.5</td>\n",
              "      <td>5.5</td>\n",
              "      <td>16.4</td>\n",
              "      <td>84.1</td>\n",
              "      <td>...</td>\n",
              "      <td>1.4</td>\n",
              "      <td>-1</td>\n",
              "      <td>15757</td>\n",
              "      <td>78</td>\n",
              "      <td>0</td>\n",
              "      <td>42</td>\n",
              "      <td>29</td>\n",
              "      <td>36</td>\n",
              "      <td>0</td>\n",
              "      <td>54</td>\n",
              "    </tr>\n",
              "  </tbody>\n",
              "</table>\n",
              "<p>2935 rows × 46 columns</p>\n",
              "</div>\n",
              "    <div class=\"colab-df-buttons\">\n",
              "\n",
              "  <div class=\"colab-df-container\">\n",
              "    <button class=\"colab-df-convert\" onclick=\"convertToInteractive('df-0df86997-6876-4999-9ce3-55b92f5d96c9')\"\n",
              "            title=\"Convert this dataframe to an interactive table.\"\n",
              "            style=\"display:none;\">\n",
              "\n",
              "  <svg xmlns=\"http://www.w3.org/2000/svg\" height=\"24px\" viewBox=\"0 -960 960 960\">\n",
              "    <path d=\"M120-120v-720h720v720H120Zm60-500h600v-160H180v160Zm220 220h160v-160H400v160Zm0 220h160v-160H400v160ZM180-400h160v-160H180v160Zm440 0h160v-160H620v160ZM180-180h160v-160H180v160Zm440 0h160v-160H620v160Z\"/>\n",
              "  </svg>\n",
              "    </button>\n",
              "\n",
              "  <style>\n",
              "    .colab-df-container {\n",
              "      display:flex;\n",
              "      gap: 12px;\n",
              "    }\n",
              "\n",
              "    .colab-df-convert {\n",
              "      background-color: #E8F0FE;\n",
              "      border: none;\n",
              "      border-radius: 50%;\n",
              "      cursor: pointer;\n",
              "      display: none;\n",
              "      fill: #1967D2;\n",
              "      height: 32px;\n",
              "      padding: 0 0 0 0;\n",
              "      width: 32px;\n",
              "    }\n",
              "\n",
              "    .colab-df-convert:hover {\n",
              "      background-color: #E2EBFA;\n",
              "      box-shadow: 0px 1px 2px rgba(60, 64, 67, 0.3), 0px 1px 3px 1px rgba(60, 64, 67, 0.15);\n",
              "      fill: #174EA6;\n",
              "    }\n",
              "\n",
              "    .colab-df-buttons div {\n",
              "      margin-bottom: 4px;\n",
              "    }\n",
              "\n",
              "    [theme=dark] .colab-df-convert {\n",
              "      background-color: #3B4455;\n",
              "      fill: #D2E3FC;\n",
              "    }\n",
              "\n",
              "    [theme=dark] .colab-df-convert:hover {\n",
              "      background-color: #434B5C;\n",
              "      box-shadow: 0px 1px 3px 1px rgba(0, 0, 0, 0.15);\n",
              "      filter: drop-shadow(0px 1px 2px rgba(0, 0, 0, 0.3));\n",
              "      fill: #FFFFFF;\n",
              "    }\n",
              "  </style>\n",
              "\n",
              "    <script>\n",
              "      const buttonEl =\n",
              "        document.querySelector('#df-0df86997-6876-4999-9ce3-55b92f5d96c9 button.colab-df-convert');\n",
              "      buttonEl.style.display =\n",
              "        google.colab.kernel.accessAllowed ? 'block' : 'none';\n",
              "\n",
              "      async function convertToInteractive(key) {\n",
              "        const element = document.querySelector('#df-0df86997-6876-4999-9ce3-55b92f5d96c9');\n",
              "        const dataTable =\n",
              "          await google.colab.kernel.invokeFunction('convertToInteractive',\n",
              "                                                    [key], {});\n",
              "        if (!dataTable) return;\n",
              "\n",
              "        const docLinkHtml = 'Like what you see? Visit the ' +\n",
              "          '<a target=\"_blank\" href=https://colab.research.google.com/notebooks/data_table.ipynb>data table notebook</a>'\n",
              "          + ' to learn more about interactive tables.';\n",
              "        element.innerHTML = '';\n",
              "        dataTable['output_type'] = 'display_data';\n",
              "        await google.colab.output.renderOutput(dataTable, element);\n",
              "        const docLink = document.createElement('div');\n",
              "        docLink.innerHTML = docLinkHtml;\n",
              "        element.appendChild(docLink);\n",
              "      }\n",
              "    </script>\n",
              "  </div>\n",
              "\n",
              "\n",
              "<div id=\"df-583fb976-4a1a-4296-8c6f-d2454c19b4fa\">\n",
              "  <button class=\"colab-df-quickchart\" onclick=\"quickchart('df-583fb976-4a1a-4296-8c6f-d2454c19b4fa')\"\n",
              "            title=\"Suggest charts\"\n",
              "            style=\"display:none;\">\n",
              "\n",
              "<svg xmlns=\"http://www.w3.org/2000/svg\" height=\"24px\"viewBox=\"0 0 24 24\"\n",
              "     width=\"24px\">\n",
              "    <g>\n",
              "        <path d=\"M19 3H5c-1.1 0-2 .9-2 2v14c0 1.1.9 2 2 2h14c1.1 0 2-.9 2-2V5c0-1.1-.9-2-2-2zM9 17H7v-7h2v7zm4 0h-2V7h2v10zm4 0h-2v-4h2v4z\"/>\n",
              "    </g>\n",
              "</svg>\n",
              "  </button>\n",
              "\n",
              "<style>\n",
              "  .colab-df-quickchart {\n",
              "      --bg-color: #E8F0FE;\n",
              "      --fill-color: #1967D2;\n",
              "      --hover-bg-color: #E2EBFA;\n",
              "      --hover-fill-color: #174EA6;\n",
              "      --disabled-fill-color: #AAA;\n",
              "      --disabled-bg-color: #DDD;\n",
              "  }\n",
              "\n",
              "  [theme=dark] .colab-df-quickchart {\n",
              "      --bg-color: #3B4455;\n",
              "      --fill-color: #D2E3FC;\n",
              "      --hover-bg-color: #434B5C;\n",
              "      --hover-fill-color: #FFFFFF;\n",
              "      --disabled-bg-color: #3B4455;\n",
              "      --disabled-fill-color: #666;\n",
              "  }\n",
              "\n",
              "  .colab-df-quickchart {\n",
              "    background-color: var(--bg-color);\n",
              "    border: none;\n",
              "    border-radius: 50%;\n",
              "    cursor: pointer;\n",
              "    display: none;\n",
              "    fill: var(--fill-color);\n",
              "    height: 32px;\n",
              "    padding: 0;\n",
              "    width: 32px;\n",
              "  }\n",
              "\n",
              "  .colab-df-quickchart:hover {\n",
              "    background-color: var(--hover-bg-color);\n",
              "    box-shadow: 0 1px 2px rgba(60, 64, 67, 0.3), 0 1px 3px 1px rgba(60, 64, 67, 0.15);\n",
              "    fill: var(--button-hover-fill-color);\n",
              "  }\n",
              "\n",
              "  .colab-df-quickchart-complete:disabled,\n",
              "  .colab-df-quickchart-complete:disabled:hover {\n",
              "    background-color: var(--disabled-bg-color);\n",
              "    fill: var(--disabled-fill-color);\n",
              "    box-shadow: none;\n",
              "  }\n",
              "\n",
              "  .colab-df-spinner {\n",
              "    border: 2px solid var(--fill-color);\n",
              "    border-color: transparent;\n",
              "    border-bottom-color: var(--fill-color);\n",
              "    animation:\n",
              "      spin 1s steps(1) infinite;\n",
              "  }\n",
              "\n",
              "  @keyframes spin {\n",
              "    0% {\n",
              "      border-color: transparent;\n",
              "      border-bottom-color: var(--fill-color);\n",
              "      border-left-color: var(--fill-color);\n",
              "    }\n",
              "    20% {\n",
              "      border-color: transparent;\n",
              "      border-left-color: var(--fill-color);\n",
              "      border-top-color: var(--fill-color);\n",
              "    }\n",
              "    30% {\n",
              "      border-color: transparent;\n",
              "      border-left-color: var(--fill-color);\n",
              "      border-top-color: var(--fill-color);\n",
              "      border-right-color: var(--fill-color);\n",
              "    }\n",
              "    40% {\n",
              "      border-color: transparent;\n",
              "      border-right-color: var(--fill-color);\n",
              "      border-top-color: var(--fill-color);\n",
              "    }\n",
              "    60% {\n",
              "      border-color: transparent;\n",
              "      border-right-color: var(--fill-color);\n",
              "    }\n",
              "    80% {\n",
              "      border-color: transparent;\n",
              "      border-right-color: var(--fill-color);\n",
              "      border-bottom-color: var(--fill-color);\n",
              "    }\n",
              "    90% {\n",
              "      border-color: transparent;\n",
              "      border-bottom-color: var(--fill-color);\n",
              "    }\n",
              "  }\n",
              "</style>\n",
              "\n",
              "  <script>\n",
              "    async function quickchart(key) {\n",
              "      const quickchartButtonEl =\n",
              "        document.querySelector('#' + key + ' button');\n",
              "      quickchartButtonEl.disabled = true;  // To prevent multiple clicks.\n",
              "      quickchartButtonEl.classList.add('colab-df-spinner');\n",
              "      try {\n",
              "        const charts = await google.colab.kernel.invokeFunction(\n",
              "            'suggestCharts', [key], {});\n",
              "      } catch (error) {\n",
              "        console.error('Error during call to suggestCharts:', error);\n",
              "      }\n",
              "      quickchartButtonEl.classList.remove('colab-df-spinner');\n",
              "      quickchartButtonEl.classList.add('colab-df-quickchart-complete');\n",
              "    }\n",
              "    (() => {\n",
              "      let quickchartButtonEl =\n",
              "        document.querySelector('#df-583fb976-4a1a-4296-8c6f-d2454c19b4fa button');\n",
              "      quickchartButtonEl.style.display =\n",
              "        google.colab.kernel.accessAllowed ? 'block' : 'none';\n",
              "    })();\n",
              "  </script>\n",
              "</div>\n",
              "    </div>\n",
              "  </div>\n"
            ]
          },
          "metadata": {},
          "execution_count": 15
        }
      ],
      "source": [
        "fire_counties.merge(counties, left_on=[\"FIPS_NAME\", \"STATE\"], right_on=[\"County\", \"State\"])"
      ]
    },
    {
      "cell_type": "code",
      "execution_count": 16,
      "metadata": {
        "id": "Wejd6Hjywfiq"
      },
      "outputs": [],
      "source": [
        "big = cfires.merge(counties, left_on=[\"FIPS_NAME\", \"STATE\"], right_on=[\"County\", \"State\"])"
      ]
    },
    {
      "cell_type": "code",
      "execution_count": 17,
      "metadata": {
        "id": "hJrpynBNwmln",
        "colab": {
          "base_uri": "https://localhost:8080/",
          "height": 617
        },
        "outputId": "821d9bbe-7161-4505-cd38-d64caba9982e"
      },
      "outputs": [
        {
          "output_type": "execute_result",
          "data": {
            "text/plain": [
              "         OBJECTID       FOD_ID                        FPA_ID  \\\n",
              "0               1          1.0                    FS-1418826   \n",
              "1             399        406.0                    FS-1419737   \n",
              "2            1315       1329.0                    FS-1421758   \n",
              "3            1318       1332.0                    FS-1421790   \n",
              "4            1416       1430.0                    FS-1421999   \n",
              "...           ...          ...                           ...   \n",
              "1636422   2300869  400649395.0         IRW-2020-INIDP-200040   \n",
              "1636423   2302431  400651087.0         IRW-2020-VAPEP-200001   \n",
              "1636424   2302447  400651114.0     IRW-2020-MDCOP-MDCOP-0002   \n",
              "1636425    663156     725673.0  SFO-2007VADFVA0266-HAM200807   \n",
              "1636426    664082     726635.0  SFO-2008VADFVA0453-BUE004198   \n",
              "\n",
              "        SOURCE_SYSTEM_TYPE SOURCE_SYSTEM NWCG_REPORTING_AGENCY  \\\n",
              "0                      FED   FS-FIRESTAT                    FS   \n",
              "1                      FED   FS-FIRESTAT                    FS   \n",
              "2                      FED   FS-FIRESTAT                    FS   \n",
              "3                      FED   FS-FIRESTAT                    FS   \n",
              "4                      FED   FS-FIRESTAT                    FS   \n",
              "...                    ...           ...                   ...   \n",
              "1636422          INTERAGCY      IA-IRWIN                   NPS   \n",
              "1636423          INTERAGCY      IA-IRWIN                   NPS   \n",
              "1636424          INTERAGCY      IA-IRWIN                   NPS   \n",
              "1636425             NONFED       ST-NASF                ST/C&L   \n",
              "1636426             NONFED       ST-NASF                ST/C&L   \n",
              "\n",
              "        NWCG_REPORTING_UNIT_ID  \\\n",
              "0                      USCAPNF   \n",
              "1                      USCAPNF   \n",
              "2                      USCAPNF   \n",
              "3                      USCAPNF   \n",
              "4                      USCAPNF   \n",
              "...                        ...   \n",
              "1636422                USINIDP   \n",
              "1636423                USVAPEP   \n",
              "1636424                USMDCOP   \n",
              "1636425                USVAVAS   \n",
              "1636426                USVAVAS   \n",
              "\n",
              "                                 NWCG_REPORTING_UNIT_NAME  \\\n",
              "0                                  Plumas National Forest   \n",
              "1                                  Plumas National Forest   \n",
              "2                                  Plumas National Forest   \n",
              "3                                  Plumas National Forest   \n",
              "4                                  Plumas National Forest   \n",
              "...                                                   ...   \n",
              "1636422                  Indiana Dunes National Lakeshore   \n",
              "1636423                   Petersburg National Battlefield   \n",
              "1636424  Chesapeake & Ohio Canal National Historical Park   \n",
              "1636425                   Virginia Department of Forestry   \n",
              "1636426                   Virginia Department of Forestry   \n",
              "\n",
              "        SOURCE_REPORTING_UNIT  \\\n",
              "0                         511   \n",
              "1                         511   \n",
              "2                         511   \n",
              "3                         511   \n",
              "4                         511   \n",
              "...                       ...   \n",
              "1636422                 INIDP   \n",
              "1636423                 VAPEP   \n",
              "1636424                 MDCOP   \n",
              "1636425                 VAVAS   \n",
              "1636426                 VAVAS   \n",
              "\n",
              "                               SOURCE_REPORTING_UNIT_NAME  ...  \\\n",
              "0                                  Plumas National Forest  ...   \n",
              "1                                  Plumas National Forest  ...   \n",
              "2                                  Plumas National Forest  ...   \n",
              "3                                  Plumas National Forest  ...   \n",
              "4                                  Plumas National Forest  ...   \n",
              "...                                                   ...  ...   \n",
              "1636422                  Indiana Dunes National Lakeshore  ...   \n",
              "1636423                   Petersburg National Battlefield  ...   \n",
              "1636424  Chesapeake & Ohio Canal National Historical Park  ...   \n",
              "1636425                   Virginia Department of Forestry  ...   \n",
              "1636426                   Virginia Department of Forestry  ...   \n",
              "\n",
              "        Population.Population per Square Mile  \\\n",
              "0                                         7.8   \n",
              "1                                         7.8   \n",
              "2                                         7.8   \n",
              "3                                         7.8   \n",
              "4                                         7.8   \n",
              "...                                       ...   \n",
              "1636422                                 393.0   \n",
              "1636423                                2197.9   \n",
              "1636424                                9856.6   \n",
              "1636425                                2673.2   \n",
              "1636426                                 992.0   \n",
              "\n",
              "        Sales.Accommodation and Food Services Sales Sales.Retail Sales  \\\n",
              "0                                                -1             139325   \n",
              "1                                                -1             139325   \n",
              "2                                                -1             139325   \n",
              "3                                                -1             139325   \n",
              "4                                                -1             139325   \n",
              "...                                             ...                ...   \n",
              "1636422                                      270608            2035375   \n",
              "1636423                                       33506             164780   \n",
              "1636424                                     5101602            4439933   \n",
              "1636425                                      249039            1512476   \n",
              "1636426                                          -1              34821   \n",
              "\n",
              "        Employment.Firms.Total Employment.Firms.Women-Owned  \\\n",
              "0                         2039                          560   \n",
              "1                         2039                          560   \n",
              "2                         2039                          560   \n",
              "3                         2039                          560   \n",
              "4                         2039                          560   \n",
              "...                        ...                          ...   \n",
              "1636422                  10999                         3866   \n",
              "1636423                   1238                          511   \n",
              "1636424                  63408                        27064   \n",
              "1636425                   8058                         3473   \n",
              "1636426                    313                          117   \n",
              "\n",
              "        Employment.Firms.Men-Owned Employment.Firms.Minority-Owned  \\\n",
              "0                              942                             198   \n",
              "1                              942                             198   \n",
              "2                              942                             198   \n",
              "3                              942                             198   \n",
              "4                              942                             198   \n",
              "...                            ...                             ...   \n",
              "1636422                       5299                             896   \n",
              "1636423                        616                             452   \n",
              "1636424                      30237                           29983   \n",
              "1636425                       3626                            3865   \n",
              "1636426                        164                               0   \n",
              "\n",
              "        Employment.Firms.Nonminority-Owned Employment.Firms.Veteran-Owned  \\\n",
              "0                                     1742                            218   \n",
              "1                                     1742                            218   \n",
              "2                                     1742                            218   \n",
              "3                                     1742                            218   \n",
              "4                                     1742                            218   \n",
              "...                                    ...                            ...   \n",
              "1636422                               9601                            886   \n",
              "1636423                                715                            141   \n",
              "1636424                              29521                           5070   \n",
              "1636425                               3694                           1181   \n",
              "1636426                                285                             56   \n",
              "\n",
              "         Employment.Firms.Nonveteran-Owned  \n",
              "0                                     1653  \n",
              "1                                     1653  \n",
              "2                                     1653  \n",
              "3                                     1653  \n",
              "4                                     1653  \n",
              "...                                    ...  \n",
              "1636422                               9489  \n",
              "1636423                               1018  \n",
              "1636424                              54217  \n",
              "1636425                               6139  \n",
              "1636426                                233  \n",
              "\n",
              "[1636427 rows x 81 columns]"
            ],
            "text/html": [
              "\n",
              "  <div id=\"df-048154ea-7b87-4e8c-b80b-a20770dfb4c7\" class=\"colab-df-container\">\n",
              "    <div>\n",
              "<style scoped>\n",
              "    .dataframe tbody tr th:only-of-type {\n",
              "        vertical-align: middle;\n",
              "    }\n",
              "\n",
              "    .dataframe tbody tr th {\n",
              "        vertical-align: top;\n",
              "    }\n",
              "\n",
              "    .dataframe thead th {\n",
              "        text-align: right;\n",
              "    }\n",
              "</style>\n",
              "<table border=\"1\" class=\"dataframe\">\n",
              "  <thead>\n",
              "    <tr style=\"text-align: right;\">\n",
              "      <th></th>\n",
              "      <th>OBJECTID</th>\n",
              "      <th>FOD_ID</th>\n",
              "      <th>FPA_ID</th>\n",
              "      <th>SOURCE_SYSTEM_TYPE</th>\n",
              "      <th>SOURCE_SYSTEM</th>\n",
              "      <th>NWCG_REPORTING_AGENCY</th>\n",
              "      <th>NWCG_REPORTING_UNIT_ID</th>\n",
              "      <th>NWCG_REPORTING_UNIT_NAME</th>\n",
              "      <th>SOURCE_REPORTING_UNIT</th>\n",
              "      <th>SOURCE_REPORTING_UNIT_NAME</th>\n",
              "      <th>...</th>\n",
              "      <th>Population.Population per Square Mile</th>\n",
              "      <th>Sales.Accommodation and Food Services Sales</th>\n",
              "      <th>Sales.Retail Sales</th>\n",
              "      <th>Employment.Firms.Total</th>\n",
              "      <th>Employment.Firms.Women-Owned</th>\n",
              "      <th>Employment.Firms.Men-Owned</th>\n",
              "      <th>Employment.Firms.Minority-Owned</th>\n",
              "      <th>Employment.Firms.Nonminority-Owned</th>\n",
              "      <th>Employment.Firms.Veteran-Owned</th>\n",
              "      <th>Employment.Firms.Nonveteran-Owned</th>\n",
              "    </tr>\n",
              "  </thead>\n",
              "  <tbody>\n",
              "    <tr>\n",
              "      <th>0</th>\n",
              "      <td>1</td>\n",
              "      <td>1.0</td>\n",
              "      <td>FS-1418826</td>\n",
              "      <td>FED</td>\n",
              "      <td>FS-FIRESTAT</td>\n",
              "      <td>FS</td>\n",
              "      <td>USCAPNF</td>\n",
              "      <td>Plumas National Forest</td>\n",
              "      <td>511</td>\n",
              "      <td>Plumas National Forest</td>\n",
              "      <td>...</td>\n",
              "      <td>7.8</td>\n",
              "      <td>-1</td>\n",
              "      <td>139325</td>\n",
              "      <td>2039</td>\n",
              "      <td>560</td>\n",
              "      <td>942</td>\n",
              "      <td>198</td>\n",
              "      <td>1742</td>\n",
              "      <td>218</td>\n",
              "      <td>1653</td>\n",
              "    </tr>\n",
              "    <tr>\n",
              "      <th>1</th>\n",
              "      <td>399</td>\n",
              "      <td>406.0</td>\n",
              "      <td>FS-1419737</td>\n",
              "      <td>FED</td>\n",
              "      <td>FS-FIRESTAT</td>\n",
              "      <td>FS</td>\n",
              "      <td>USCAPNF</td>\n",
              "      <td>Plumas National Forest</td>\n",
              "      <td>511</td>\n",
              "      <td>Plumas National Forest</td>\n",
              "      <td>...</td>\n",
              "      <td>7.8</td>\n",
              "      <td>-1</td>\n",
              "      <td>139325</td>\n",
              "      <td>2039</td>\n",
              "      <td>560</td>\n",
              "      <td>942</td>\n",
              "      <td>198</td>\n",
              "      <td>1742</td>\n",
              "      <td>218</td>\n",
              "      <td>1653</td>\n",
              "    </tr>\n",
              "    <tr>\n",
              "      <th>2</th>\n",
              "      <td>1315</td>\n",
              "      <td>1329.0</td>\n",
              "      <td>FS-1421758</td>\n",
              "      <td>FED</td>\n",
              "      <td>FS-FIRESTAT</td>\n",
              "      <td>FS</td>\n",
              "      <td>USCAPNF</td>\n",
              "      <td>Plumas National Forest</td>\n",
              "      <td>511</td>\n",
              "      <td>Plumas National Forest</td>\n",
              "      <td>...</td>\n",
              "      <td>7.8</td>\n",
              "      <td>-1</td>\n",
              "      <td>139325</td>\n",
              "      <td>2039</td>\n",
              "      <td>560</td>\n",
              "      <td>942</td>\n",
              "      <td>198</td>\n",
              "      <td>1742</td>\n",
              "      <td>218</td>\n",
              "      <td>1653</td>\n",
              "    </tr>\n",
              "    <tr>\n",
              "      <th>3</th>\n",
              "      <td>1318</td>\n",
              "      <td>1332.0</td>\n",
              "      <td>FS-1421790</td>\n",
              "      <td>FED</td>\n",
              "      <td>FS-FIRESTAT</td>\n",
              "      <td>FS</td>\n",
              "      <td>USCAPNF</td>\n",
              "      <td>Plumas National Forest</td>\n",
              "      <td>511</td>\n",
              "      <td>Plumas National Forest</td>\n",
              "      <td>...</td>\n",
              "      <td>7.8</td>\n",
              "      <td>-1</td>\n",
              "      <td>139325</td>\n",
              "      <td>2039</td>\n",
              "      <td>560</td>\n",
              "      <td>942</td>\n",
              "      <td>198</td>\n",
              "      <td>1742</td>\n",
              "      <td>218</td>\n",
              "      <td>1653</td>\n",
              "    </tr>\n",
              "    <tr>\n",
              "      <th>4</th>\n",
              "      <td>1416</td>\n",
              "      <td>1430.0</td>\n",
              "      <td>FS-1421999</td>\n",
              "      <td>FED</td>\n",
              "      <td>FS-FIRESTAT</td>\n",
              "      <td>FS</td>\n",
              "      <td>USCAPNF</td>\n",
              "      <td>Plumas National Forest</td>\n",
              "      <td>511</td>\n",
              "      <td>Plumas National Forest</td>\n",
              "      <td>...</td>\n",
              "      <td>7.8</td>\n",
              "      <td>-1</td>\n",
              "      <td>139325</td>\n",
              "      <td>2039</td>\n",
              "      <td>560</td>\n",
              "      <td>942</td>\n",
              "      <td>198</td>\n",
              "      <td>1742</td>\n",
              "      <td>218</td>\n",
              "      <td>1653</td>\n",
              "    </tr>\n",
              "    <tr>\n",
              "      <th>...</th>\n",
              "      <td>...</td>\n",
              "      <td>...</td>\n",
              "      <td>...</td>\n",
              "      <td>...</td>\n",
              "      <td>...</td>\n",
              "      <td>...</td>\n",
              "      <td>...</td>\n",
              "      <td>...</td>\n",
              "      <td>...</td>\n",
              "      <td>...</td>\n",
              "      <td>...</td>\n",
              "      <td>...</td>\n",
              "      <td>...</td>\n",
              "      <td>...</td>\n",
              "      <td>...</td>\n",
              "      <td>...</td>\n",
              "      <td>...</td>\n",
              "      <td>...</td>\n",
              "      <td>...</td>\n",
              "      <td>...</td>\n",
              "      <td>...</td>\n",
              "    </tr>\n",
              "    <tr>\n",
              "      <th>1636422</th>\n",
              "      <td>2300869</td>\n",
              "      <td>400649395.0</td>\n",
              "      <td>IRW-2020-INIDP-200040</td>\n",
              "      <td>INTERAGCY</td>\n",
              "      <td>IA-IRWIN</td>\n",
              "      <td>NPS</td>\n",
              "      <td>USINIDP</td>\n",
              "      <td>Indiana Dunes National Lakeshore</td>\n",
              "      <td>INIDP</td>\n",
              "      <td>Indiana Dunes National Lakeshore</td>\n",
              "      <td>...</td>\n",
              "      <td>393.0</td>\n",
              "      <td>270608</td>\n",
              "      <td>2035375</td>\n",
              "      <td>10999</td>\n",
              "      <td>3866</td>\n",
              "      <td>5299</td>\n",
              "      <td>896</td>\n",
              "      <td>9601</td>\n",
              "      <td>886</td>\n",
              "      <td>9489</td>\n",
              "    </tr>\n",
              "    <tr>\n",
              "      <th>1636423</th>\n",
              "      <td>2302431</td>\n",
              "      <td>400651087.0</td>\n",
              "      <td>IRW-2020-VAPEP-200001</td>\n",
              "      <td>INTERAGCY</td>\n",
              "      <td>IA-IRWIN</td>\n",
              "      <td>NPS</td>\n",
              "      <td>USVAPEP</td>\n",
              "      <td>Petersburg National Battlefield</td>\n",
              "      <td>VAPEP</td>\n",
              "      <td>Petersburg National Battlefield</td>\n",
              "      <td>...</td>\n",
              "      <td>2197.9</td>\n",
              "      <td>33506</td>\n",
              "      <td>164780</td>\n",
              "      <td>1238</td>\n",
              "      <td>511</td>\n",
              "      <td>616</td>\n",
              "      <td>452</td>\n",
              "      <td>715</td>\n",
              "      <td>141</td>\n",
              "      <td>1018</td>\n",
              "    </tr>\n",
              "    <tr>\n",
              "      <th>1636424</th>\n",
              "      <td>2302447</td>\n",
              "      <td>400651114.0</td>\n",
              "      <td>IRW-2020-MDCOP-MDCOP-0002</td>\n",
              "      <td>INTERAGCY</td>\n",
              "      <td>IA-IRWIN</td>\n",
              "      <td>NPS</td>\n",
              "      <td>USMDCOP</td>\n",
              "      <td>Chesapeake &amp; Ohio Canal National Historical Park</td>\n",
              "      <td>MDCOP</td>\n",
              "      <td>Chesapeake &amp; Ohio Canal National Historical Park</td>\n",
              "      <td>...</td>\n",
              "      <td>9856.6</td>\n",
              "      <td>5101602</td>\n",
              "      <td>4439933</td>\n",
              "      <td>63408</td>\n",
              "      <td>27064</td>\n",
              "      <td>30237</td>\n",
              "      <td>29983</td>\n",
              "      <td>29521</td>\n",
              "      <td>5070</td>\n",
              "      <td>54217</td>\n",
              "    </tr>\n",
              "    <tr>\n",
              "      <th>1636425</th>\n",
              "      <td>663156</td>\n",
              "      <td>725673.0</td>\n",
              "      <td>SFO-2007VADFVA0266-HAM200807</td>\n",
              "      <td>NONFED</td>\n",
              "      <td>ST-NASF</td>\n",
              "      <td>ST/C&amp;L</td>\n",
              "      <td>USVAVAS</td>\n",
              "      <td>Virginia Department of Forestry</td>\n",
              "      <td>VAVAS</td>\n",
              "      <td>Virginia Department of Forestry</td>\n",
              "      <td>...</td>\n",
              "      <td>2673.2</td>\n",
              "      <td>249039</td>\n",
              "      <td>1512476</td>\n",
              "      <td>8058</td>\n",
              "      <td>3473</td>\n",
              "      <td>3626</td>\n",
              "      <td>3865</td>\n",
              "      <td>3694</td>\n",
              "      <td>1181</td>\n",
              "      <td>6139</td>\n",
              "    </tr>\n",
              "    <tr>\n",
              "      <th>1636426</th>\n",
              "      <td>664082</td>\n",
              "      <td>726635.0</td>\n",
              "      <td>SFO-2008VADFVA0453-BUE004198</td>\n",
              "      <td>NONFED</td>\n",
              "      <td>ST-NASF</td>\n",
              "      <td>ST/C&amp;L</td>\n",
              "      <td>USVAVAS</td>\n",
              "      <td>Virginia Department of Forestry</td>\n",
              "      <td>VAVAS</td>\n",
              "      <td>Virginia Department of Forestry</td>\n",
              "      <td>...</td>\n",
              "      <td>992.0</td>\n",
              "      <td>-1</td>\n",
              "      <td>34821</td>\n",
              "      <td>313</td>\n",
              "      <td>117</td>\n",
              "      <td>164</td>\n",
              "      <td>0</td>\n",
              "      <td>285</td>\n",
              "      <td>56</td>\n",
              "      <td>233</td>\n",
              "    </tr>\n",
              "  </tbody>\n",
              "</table>\n",
              "<p>1636427 rows × 81 columns</p>\n",
              "</div>\n",
              "    <div class=\"colab-df-buttons\">\n",
              "\n",
              "  <div class=\"colab-df-container\">\n",
              "    <button class=\"colab-df-convert\" onclick=\"convertToInteractive('df-048154ea-7b87-4e8c-b80b-a20770dfb4c7')\"\n",
              "            title=\"Convert this dataframe to an interactive table.\"\n",
              "            style=\"display:none;\">\n",
              "\n",
              "  <svg xmlns=\"http://www.w3.org/2000/svg\" height=\"24px\" viewBox=\"0 -960 960 960\">\n",
              "    <path d=\"M120-120v-720h720v720H120Zm60-500h600v-160H180v160Zm220 220h160v-160H400v160Zm0 220h160v-160H400v160ZM180-400h160v-160H180v160Zm440 0h160v-160H620v160ZM180-180h160v-160H180v160Zm440 0h160v-160H620v160Z\"/>\n",
              "  </svg>\n",
              "    </button>\n",
              "\n",
              "  <style>\n",
              "    .colab-df-container {\n",
              "      display:flex;\n",
              "      gap: 12px;\n",
              "    }\n",
              "\n",
              "    .colab-df-convert {\n",
              "      background-color: #E8F0FE;\n",
              "      border: none;\n",
              "      border-radius: 50%;\n",
              "      cursor: pointer;\n",
              "      display: none;\n",
              "      fill: #1967D2;\n",
              "      height: 32px;\n",
              "      padding: 0 0 0 0;\n",
              "      width: 32px;\n",
              "    }\n",
              "\n",
              "    .colab-df-convert:hover {\n",
              "      background-color: #E2EBFA;\n",
              "      box-shadow: 0px 1px 2px rgba(60, 64, 67, 0.3), 0px 1px 3px 1px rgba(60, 64, 67, 0.15);\n",
              "      fill: #174EA6;\n",
              "    }\n",
              "\n",
              "    .colab-df-buttons div {\n",
              "      margin-bottom: 4px;\n",
              "    }\n",
              "\n",
              "    [theme=dark] .colab-df-convert {\n",
              "      background-color: #3B4455;\n",
              "      fill: #D2E3FC;\n",
              "    }\n",
              "\n",
              "    [theme=dark] .colab-df-convert:hover {\n",
              "      background-color: #434B5C;\n",
              "      box-shadow: 0px 1px 3px 1px rgba(0, 0, 0, 0.15);\n",
              "      filter: drop-shadow(0px 1px 2px rgba(0, 0, 0, 0.3));\n",
              "      fill: #FFFFFF;\n",
              "    }\n",
              "  </style>\n",
              "\n",
              "    <script>\n",
              "      const buttonEl =\n",
              "        document.querySelector('#df-048154ea-7b87-4e8c-b80b-a20770dfb4c7 button.colab-df-convert');\n",
              "      buttonEl.style.display =\n",
              "        google.colab.kernel.accessAllowed ? 'block' : 'none';\n",
              "\n",
              "      async function convertToInteractive(key) {\n",
              "        const element = document.querySelector('#df-048154ea-7b87-4e8c-b80b-a20770dfb4c7');\n",
              "        const dataTable =\n",
              "          await google.colab.kernel.invokeFunction('convertToInteractive',\n",
              "                                                    [key], {});\n",
              "        if (!dataTable) return;\n",
              "\n",
              "        const docLinkHtml = 'Like what you see? Visit the ' +\n",
              "          '<a target=\"_blank\" href=https://colab.research.google.com/notebooks/data_table.ipynb>data table notebook</a>'\n",
              "          + ' to learn more about interactive tables.';\n",
              "        element.innerHTML = '';\n",
              "        dataTable['output_type'] = 'display_data';\n",
              "        await google.colab.output.renderOutput(dataTable, element);\n",
              "        const docLink = document.createElement('div');\n",
              "        docLink.innerHTML = docLinkHtml;\n",
              "        element.appendChild(docLink);\n",
              "      }\n",
              "    </script>\n",
              "  </div>\n",
              "\n",
              "\n",
              "<div id=\"df-4775fbc0-3b0b-45fd-aca0-726de1f26942\">\n",
              "  <button class=\"colab-df-quickchart\" onclick=\"quickchart('df-4775fbc0-3b0b-45fd-aca0-726de1f26942')\"\n",
              "            title=\"Suggest charts\"\n",
              "            style=\"display:none;\">\n",
              "\n",
              "<svg xmlns=\"http://www.w3.org/2000/svg\" height=\"24px\"viewBox=\"0 0 24 24\"\n",
              "     width=\"24px\">\n",
              "    <g>\n",
              "        <path d=\"M19 3H5c-1.1 0-2 .9-2 2v14c0 1.1.9 2 2 2h14c1.1 0 2-.9 2-2V5c0-1.1-.9-2-2-2zM9 17H7v-7h2v7zm4 0h-2V7h2v10zm4 0h-2v-4h2v4z\"/>\n",
              "    </g>\n",
              "</svg>\n",
              "  </button>\n",
              "\n",
              "<style>\n",
              "  .colab-df-quickchart {\n",
              "      --bg-color: #E8F0FE;\n",
              "      --fill-color: #1967D2;\n",
              "      --hover-bg-color: #E2EBFA;\n",
              "      --hover-fill-color: #174EA6;\n",
              "      --disabled-fill-color: #AAA;\n",
              "      --disabled-bg-color: #DDD;\n",
              "  }\n",
              "\n",
              "  [theme=dark] .colab-df-quickchart {\n",
              "      --bg-color: #3B4455;\n",
              "      --fill-color: #D2E3FC;\n",
              "      --hover-bg-color: #434B5C;\n",
              "      --hover-fill-color: #FFFFFF;\n",
              "      --disabled-bg-color: #3B4455;\n",
              "      --disabled-fill-color: #666;\n",
              "  }\n",
              "\n",
              "  .colab-df-quickchart {\n",
              "    background-color: var(--bg-color);\n",
              "    border: none;\n",
              "    border-radius: 50%;\n",
              "    cursor: pointer;\n",
              "    display: none;\n",
              "    fill: var(--fill-color);\n",
              "    height: 32px;\n",
              "    padding: 0;\n",
              "    width: 32px;\n",
              "  }\n",
              "\n",
              "  .colab-df-quickchart:hover {\n",
              "    background-color: var(--hover-bg-color);\n",
              "    box-shadow: 0 1px 2px rgba(60, 64, 67, 0.3), 0 1px 3px 1px rgba(60, 64, 67, 0.15);\n",
              "    fill: var(--button-hover-fill-color);\n",
              "  }\n",
              "\n",
              "  .colab-df-quickchart-complete:disabled,\n",
              "  .colab-df-quickchart-complete:disabled:hover {\n",
              "    background-color: var(--disabled-bg-color);\n",
              "    fill: var(--disabled-fill-color);\n",
              "    box-shadow: none;\n",
              "  }\n",
              "\n",
              "  .colab-df-spinner {\n",
              "    border: 2px solid var(--fill-color);\n",
              "    border-color: transparent;\n",
              "    border-bottom-color: var(--fill-color);\n",
              "    animation:\n",
              "      spin 1s steps(1) infinite;\n",
              "  }\n",
              "\n",
              "  @keyframes spin {\n",
              "    0% {\n",
              "      border-color: transparent;\n",
              "      border-bottom-color: var(--fill-color);\n",
              "      border-left-color: var(--fill-color);\n",
              "    }\n",
              "    20% {\n",
              "      border-color: transparent;\n",
              "      border-left-color: var(--fill-color);\n",
              "      border-top-color: var(--fill-color);\n",
              "    }\n",
              "    30% {\n",
              "      border-color: transparent;\n",
              "      border-left-color: var(--fill-color);\n",
              "      border-top-color: var(--fill-color);\n",
              "      border-right-color: var(--fill-color);\n",
              "    }\n",
              "    40% {\n",
              "      border-color: transparent;\n",
              "      border-right-color: var(--fill-color);\n",
              "      border-top-color: var(--fill-color);\n",
              "    }\n",
              "    60% {\n",
              "      border-color: transparent;\n",
              "      border-right-color: var(--fill-color);\n",
              "    }\n",
              "    80% {\n",
              "      border-color: transparent;\n",
              "      border-right-color: var(--fill-color);\n",
              "      border-bottom-color: var(--fill-color);\n",
              "    }\n",
              "    90% {\n",
              "      border-color: transparent;\n",
              "      border-bottom-color: var(--fill-color);\n",
              "    }\n",
              "  }\n",
              "</style>\n",
              "\n",
              "  <script>\n",
              "    async function quickchart(key) {\n",
              "      const quickchartButtonEl =\n",
              "        document.querySelector('#' + key + ' button');\n",
              "      quickchartButtonEl.disabled = true;  // To prevent multiple clicks.\n",
              "      quickchartButtonEl.classList.add('colab-df-spinner');\n",
              "      try {\n",
              "        const charts = await google.colab.kernel.invokeFunction(\n",
              "            'suggestCharts', [key], {});\n",
              "      } catch (error) {\n",
              "        console.error('Error during call to suggestCharts:', error);\n",
              "      }\n",
              "      quickchartButtonEl.classList.remove('colab-df-spinner');\n",
              "      quickchartButtonEl.classList.add('colab-df-quickchart-complete');\n",
              "    }\n",
              "    (() => {\n",
              "      let quickchartButtonEl =\n",
              "        document.querySelector('#df-4775fbc0-3b0b-45fd-aca0-726de1f26942 button');\n",
              "      quickchartButtonEl.style.display =\n",
              "        google.colab.kernel.accessAllowed ? 'block' : 'none';\n",
              "    })();\n",
              "  </script>\n",
              "</div>\n",
              "    </div>\n",
              "  </div>\n"
            ]
          },
          "metadata": {},
          "execution_count": 17
        }
      ],
      "source": [
        "big"
      ]
    },
    {
      "cell_type": "markdown",
      "metadata": {
        "id": "TDTz5GHNWG-2"
      },
      "source": [
        "## Classifying the fire size categories"
      ]
    },
    {
      "cell_type": "code",
      "execution_count": 18,
      "metadata": {
        "id": "peOHgoRgTVSV",
        "colab": {
          "base_uri": "https://localhost:8080/"
        },
        "outputId": "324d4a57-84d4-419c-c9d7-d40434a0526d"
      },
      "outputs": [
        {
          "output_type": "execute_result",
          "data": {
            "text/plain": [
              "Index(['OBJECTID', 'FOD_ID', 'FPA_ID', 'SOURCE_SYSTEM_TYPE', 'SOURCE_SYSTEM',\n",
              "       'NWCG_REPORTING_AGENCY', 'NWCG_REPORTING_UNIT_ID',\n",
              "       'NWCG_REPORTING_UNIT_NAME', 'SOURCE_REPORTING_UNIT',\n",
              "       'SOURCE_REPORTING_UNIT_NAME', 'LOCAL_FIRE_REPORT_ID',\n",
              "       'LOCAL_INCIDENT_ID', 'FIRE_CODE', 'FIRE_NAME',\n",
              "       'ICS_209_PLUS_INCIDENT_JOIN_ID', 'ICS_209_PLUS_COMPLEX_JOIN_ID',\n",
              "       'MTBS_ID', 'MTBS_FIRE_NAME', 'COMPLEX_NAME', 'FIRE_YEAR',\n",
              "       'DISCOVERY_DATE', 'DISCOVERY_DOY', 'DISCOVERY_TIME',\n",
              "       'NWCG_CAUSE_CLASSIFICATION', 'NWCG_GENERAL_CAUSE',\n",
              "       'NWCG_CAUSE_AGE_CATEGORY', 'CONT_DATE', 'CONT_DOY', 'CONT_TIME',\n",
              "       'FIRE_SIZE', 'FIRE_SIZE_CLASS', 'LATITUDE', 'LONGITUDE', 'OWNER_DESCR',\n",
              "       'STATE', 'COUNTY', 'FIPS_CODE', 'FIPS_NAME'],\n",
              "      dtype='object')"
            ]
          },
          "metadata": {},
          "execution_count": 18
        }
      ],
      "source": [
        "fires.columns"
      ]
    },
    {
      "cell_type": "code",
      "execution_count": 19,
      "metadata": {
        "id": "bI7N2gBESesD"
      },
      "outputs": [],
      "source": [
        "fires['FIRE_SIZE'] = fires['FIRE_SIZE'].astype(float)"
      ]
    },
    {
      "cell_type": "code",
      "execution_count": 20,
      "metadata": {
        "id": "ozghD--mKuPe",
        "colab": {
          "base_uri": "https://localhost:8080/",
          "height": 430
        },
        "outputId": "a7116df5-1866-43d1-b2ea-33cecfab326a"
      },
      "outputs": [
        {
          "output_type": "display_data",
          "data": {
            "text/plain": [
              "<Figure size 640x480 with 1 Axes>"
            ],
            "image/png": "[encoded data removed]"
          },
          "metadata": {}
        }
      ],
      "source": [
        "plt.hist(np.log(fires['FIRE_SIZE']), bins=100);"
      ]
    },
    {
      "cell_type": "code",
      "execution_count": 21,
      "metadata": {
        "id": "lSUg_mwf_UyC"
      },
      "outputs": [],
      "source": [
        "fires['LATITUDE'] = fires['LATITUDE'].astype(float)\n",
        "fires['LONGITUDE'] = fires['LONGITUDE'].astype(float)\n",
        "\n",
        "fires['DISCOVERY_TIME'] = fires['DISCOVERY_TIME'].astype(float)\n",
        "fires['CONT_TIME'] = fires['CONT_TIME'].astype(float)"
      ]
    },
    {
      "cell_type": "code",
      "execution_count": 22,
      "metadata": {
        "id": "HEIytunNDXzu"
      },
      "outputs": [],
      "source": [
        "fires1 = fires.dropna(subset=['DISCOVERY_TIME', 'CONT_TIME'])"
      ]
    },
    {
      "cell_type": "code",
      "execution_count": 23,
      "metadata": {
        "id": "ElahiTjlr738"
      },
      "outputs": [],
      "source": [
        "size_classes = fires1.groupby(by=\"FIRE_SIZE_CLASS\", as_index=False).agg({\"OBJECTID\":\"count\"})"
      ]
    },
    {
      "cell_type": "code",
      "execution_count": 24,
      "metadata": {
        "id": "-2GVsMzB6vGx",
        "colab": {
          "base_uri": "https://localhost:8080/",
          "height": 430
        },
        "outputId": "d0e4207a-4292-437c-f363-702deed4f3c3"
      },
      "outputs": [
        {
          "output_type": "display_data",
          "data": {
            "text/plain": [
              "<Figure size 640x480 with 1 Axes>"
            ],
            "image/png": "[encoded data removed]"
          },
          "metadata": {}
        }
      ],
      "source": [
        "plt.bar(x=size_classes['FIRE_SIZE_CLASS'], height=size_classes['OBJECTID']);"
      ]
    },
    {
      "cell_type": "code",
      "execution_count": 25,
      "metadata": {
        "id": "kyuMYeTT7LYg",
        "colab": {
          "base_uri": "https://localhost:8080/",
          "height": 269
        },
        "outputId": "81b0bc75-49b6-4141-8449-a9b597c32c46"
      },
      "outputs": [
        {
          "output_type": "execute_result",
          "data": {
            "text/plain": [
              "  FIRE_SIZE_CLASS  OBJECTID\n",
              "0               A    558599\n",
              "1               B    557073\n",
              "2               C    132590\n",
              "3               D     20126\n",
              "4               E     11268\n",
              "5               F      7045\n",
              "6               G      3871"
            ],
            "text/html": [
              "\n",
              "  <div id=\"df-c81c5df2-c43b-478a-8668-3ffb8b90b391\" class=\"colab-df-container\">\n",
              "    <div>\n",
              "<style scoped>\n",
              "    .dataframe tbody tr th:only-of-type {\n",
              "        vertical-align: middle;\n",
              "    }\n",
              "\n",
              "    .dataframe tbody tr th {\n",
              "        vertical-align: top;\n",
              "    }\n",
              "\n",
              "    .dataframe thead th {\n",
              "        text-align: right;\n",
              "    }\n",
              "</style>\n",
              "<table border=\"1\" class=\"dataframe\">\n",
              "  <thead>\n",
              "    <tr style=\"text-align: right;\">\n",
              "      <th></th>\n",
              "      <th>FIRE_SIZE_CLASS</th>\n",
              "      <th>OBJECTID</th>\n",
              "    </tr>\n",
              "  </thead>\n",
              "  <tbody>\n",
              "    <tr>\n",
              "      <th>0</th>\n",
              "      <td>A</td>\n",
              "      <td>558599</td>\n",
              "    </tr>\n",
              "    <tr>\n",
              "      <th>1</th>\n",
              "      <td>B</td>\n",
              "      <td>557073</td>\n",
              "    </tr>\n",
              "    <tr>\n",
              "      <th>2</th>\n",
              "      <td>C</td>\n",
              "      <td>132590</td>\n",
              "    </tr>\n",
              "    <tr>\n",
              "      <th>3</th>\n",
              "      <td>D</td>\n",
              "      <td>20126</td>\n",
              "    </tr>\n",
              "    <tr>\n",
              "      <th>4</th>\n",
              "      <td>E</td>\n",
              "      <td>11268</td>\n",
              "    </tr>\n",
              "    <tr>\n",
              "      <th>5</th>\n",
              "      <td>F</td>\n",
              "      <td>7045</td>\n",
              "    </tr>\n",
              "    <tr>\n",
              "      <th>6</th>\n",
              "      <td>G</td>\n",
              "      <td>3871</td>\n",
              "    </tr>\n",
              "  </tbody>\n",
              "</table>\n",
              "</div>\n",
              "    <div class=\"colab-df-buttons\">\n",
              "\n",
              "  <div class=\"colab-df-container\">\n",
              "    <button class=\"colab-df-convert\" onclick=\"convertToInteractive('df-c81c5df2-c43b-478a-8668-3ffb8b90b391')\"\n",
              "            title=\"Convert this dataframe to an interactive table.\"\n",
              "            style=\"display:none;\">\n",
              "\n",
              "  <svg xmlns=\"http://www.w3.org/2000/svg\" height=\"24px\" viewBox=\"0 -960 960 960\">\n",
              "    <path d=\"M120-120v-720h720v720H120Zm60-500h600v-160H180v160Zm220 220h160v-160H400v160Zm0 220h160v-160H400v160ZM180-400h160v-160H180v160Zm440 0h160v-160H620v160ZM180-180h160v-160H180v160Zm440 0h160v-160H620v160Z\"/>\n",
              "  </svg>\n",
              "    </button>\n",
              "\n",
              "  <style>\n",
              "    .colab-df-container {\n",
              "      display:flex;\n",
              "      gap: 12px;\n",
              "    }\n",
              "\n",
              "    .colab-df-convert {\n",
              "      background-color: #E8F0FE;\n",
              "      border: none;\n",
              "      border-radius: 50%;\n",
              "      cursor: pointer;\n",
              "      display: none;\n",
              "      fill: #1967D2;\n",
              "      height: 32px;\n",
              "      padding: 0 0 0 0;\n",
              "      width: 32px;\n",
              "    }\n",
              "\n",
              "    .colab-df-convert:hover {\n",
              "      background-color: #E2EBFA;\n",
              "      box-shadow: 0px 1px 2px rgba(60, 64, 67, 0.3), 0px 1px 3px 1px rgba(60, 64, 67, 0.15);\n",
              "      fill: #174EA6;\n",
              "    }\n",
              "\n",
              "    .colab-df-buttons div {\n",
              "      margin-bottom: 4px;\n",
              "    }\n",
              "\n",
              "    [theme=dark] .colab-df-convert {\n",
              "      background-color: #3B4455;\n",
              "      fill: #D2E3FC;\n",
              "    }\n",
              "\n",
              "    [theme=dark] .colab-df-convert:hover {\n",
              "      background-color: #434B5C;\n",
              "      box-shadow: 0px 1px 3px 1px rgba(0, 0, 0, 0.15);\n",
              "      filter: drop-shadow(0px 1px 2px rgba(0, 0, 0, 0.3));\n",
              "      fill: #FFFFFF;\n",
              "    }\n",
              "  </style>\n",
              "\n",
              "    <script>\n",
              "      const buttonEl =\n",
              "        document.querySelector('#df-c81c5df2-c43b-478a-8668-3ffb8b90b391 button.colab-df-convert');\n",
              "      buttonEl.style.display =\n",
              "        google.colab.kernel.accessAllowed ? 'block' : 'none';\n",
              "\n",
              "      async function convertToInteractive(key) {\n",
              "        const element = document.querySelector('#df-c81c5df2-c43b-478a-8668-3ffb8b90b391');\n",
              "        const dataTable =\n",
              "          await google.colab.kernel.invokeFunction('convertToInteractive',\n",
              "                                                    [key], {});\n",
              "        if (!dataTable) return;\n",
              "\n",
              "        const docLinkHtml = 'Like what you see? Visit the ' +\n",
              "          '<a target=\"_blank\" href=https://colab.research.google.com/notebooks/data_table.ipynb>data table notebook</a>'\n",
              "          + ' to learn more about interactive tables.';\n",
              "        element.innerHTML = '';\n",
              "        dataTable['output_type'] = 'display_data';\n",
              "        await google.colab.output.renderOutput(dataTable, element);\n",
              "        const docLink = document.createElement('div');\n",
              "        docLink.innerHTML = docLinkHtml;\n",
              "        element.appendChild(docLink);\n",
              "      }\n",
              "    </script>\n",
              "  </div>\n",
              "\n",
              "\n",
              "<div id=\"df-df676244-5784-4915-9343-ac2782891421\">\n",
              "  <button class=\"colab-df-quickchart\" onclick=\"quickchart('df-df676244-5784-4915-9343-ac2782891421')\"\n",
              "            title=\"Suggest charts\"\n",
              "            style=\"display:none;\">\n",
              "\n",
              "<svg xmlns=\"http://www.w3.org/2000/svg\" height=\"24px\"viewBox=\"0 0 24 24\"\n",
              "     width=\"24px\">\n",
              "    <g>\n",
              "        <path d=\"M19 3H5c-1.1 0-2 .9-2 2v14c0 1.1.9 2 2 2h14c1.1 0 2-.9 2-2V5c0-1.1-.9-2-2-2zM9 17H7v-7h2v7zm4 0h-2V7h2v10zm4 0h-2v-4h2v4z\"/>\n",
              "    </g>\n",
              "</svg>\n",
              "  </button>\n",
              "\n",
              "<style>\n",
              "  .colab-df-quickchart {\n",
              "      --bg-color: #E8F0FE;\n",
              "      --fill-color: #1967D2;\n",
              "      --hover-bg-color: #E2EBFA;\n",
              "      --hover-fill-color: #174EA6;\n",
              "      --disabled-fill-color: #AAA;\n",
              "      --disabled-bg-color: #DDD;\n",
              "  }\n",
              "\n",
              "  [theme=dark] .colab-df-quickchart {\n",
              "      --bg-color: #3B4455;\n",
              "      --fill-color: #D2E3FC;\n",
              "      --hover-bg-color: #434B5C;\n",
              "      --hover-fill-color: #FFFFFF;\n",
              "      --disabled-bg-color: #3B4455;\n",
              "      --disabled-fill-color: #666;\n",
              "  }\n",
              "\n",
              "  .colab-df-quickchart {\n",
              "    background-color: var(--bg-color);\n",
              "    border: none;\n",
              "    border-radius: 50%;\n",
              "    cursor: pointer;\n",
              "    display: none;\n",
              "    fill: var(--fill-color);\n",
              "    height: 32px;\n",
              "    padding: 0;\n",
              "    width: 32px;\n",
              "  }\n",
              "\n",
              "  .colab-df-quickchart:hover {\n",
              "    background-color: var(--hover-bg-color);\n",
              "    box-shadow: 0 1px 2px rgba(60, 64, 67, 0.3), 0 1px 3px 1px rgba(60, 64, 67, 0.15);\n",
              "    fill: var(--button-hover-fill-color);\n",
              "  }\n",
              "\n",
              "  .colab-df-quickchart-complete:disabled,\n",
              "  .colab-df-quickchart-complete:disabled:hover {\n",
              "    background-color: var(--disabled-bg-color);\n",
              "    fill: var(--disabled-fill-color);\n",
              "    box-shadow: none;\n",
              "  }\n",
              "\n",
              "  .colab-df-spinner {\n",
              "    border: 2px solid var(--fill-color);\n",
              "    border-color: transparent;\n",
              "    border-bottom-color: var(--fill-color);\n",
              "    animation:\n",
              "      spin 1s steps(1) infinite;\n",
              "  }\n",
              "\n",
              "  @keyframes spin {\n",
              "    0% {\n",
              "      border-color: transparent;\n",
              "      border-bottom-color: var(--fill-color);\n",
              "      border-left-color: var(--fill-color);\n",
              "    }\n",
              "    20% {\n",
              "      border-color: transparent;\n",
              "      border-left-color: var(--fill-color);\n",
              "      border-top-color: var(--fill-color);\n",
              "    }\n",
              "    30% {\n",
              "      border-color: transparent;\n",
              "      border-left-color: var(--fill-color);\n",
              "      border-top-color: var(--fill-color);\n",
              "      border-right-color: var(--fill-color);\n",
              "    }\n",
              "    40% {\n",
              "      border-color: transparent;\n",
              "      border-right-color: var(--fill-color);\n",
              "      border-top-color: var(--fill-color);\n",
              "    }\n",
              "    60% {\n",
              "      border-color: transparent;\n",
              "      border-right-color: var(--fill-color);\n",
              "    }\n",
              "    80% {\n",
              "      border-color: transparent;\n",
              "      border-right-color: var(--fill-color);\n",
              "      border-bottom-color: var(--fill-color);\n",
              "    }\n",
              "    90% {\n",
              "      border-color: transparent;\n",
              "      border-bottom-color: var(--fill-color);\n",
              "    }\n",
              "  }\n",
              "</style>\n",
              "\n",
              "  <script>\n",
              "    async function quickchart(key) {\n",
              "      const quickchartButtonEl =\n",
              "        document.querySelector('#' + key + ' button');\n",
              "      quickchartButtonEl.disabled = true;  // To prevent multiple clicks.\n",
              "      quickchartButtonEl.classList.add('colab-df-spinner');\n",
              "      try {\n",
              "        const charts = await google.colab.kernel.invokeFunction(\n",
              "            'suggestCharts', [key], {});\n",
              "      } catch (error) {\n",
              "        console.error('Error during call to suggestCharts:', error);\n",
              "      }\n",
              "      quickchartButtonEl.classList.remove('colab-df-spinner');\n",
              "      quickchartButtonEl.classList.add('colab-df-quickchart-complete');\n",
              "    }\n",
              "    (() => {\n",
              "      let quickchartButtonEl =\n",
              "        document.querySelector('#df-df676244-5784-4915-9343-ac2782891421 button');\n",
              "      quickchartButtonEl.style.display =\n",
              "        google.colab.kernel.accessAllowed ? 'block' : 'none';\n",
              "    })();\n",
              "  </script>\n",
              "</div>\n",
              "    </div>\n",
              "  </div>\n"
            ]
          },
          "metadata": {},
          "execution_count": 25
        }
      ],
      "source": [
        "size_classes"
      ]
    },
    {
      "cell_type": "code",
      "execution_count": 26,
      "metadata": {
        "id": "Swpj0Ait7YyJ",
        "colab": {
          "base_uri": "https://localhost:8080/"
        },
        "outputId": "5f7398d9-1738-4db7-bf1d-45b483bd244c"
      },
      "outputs": [
        {
          "output_type": "execute_result",
          "data": {
            "text/plain": [
              "0.4328305588529737"
            ]
          },
          "metadata": {},
          "execution_count": 26
        }
      ],
      "source": [
        "# majority class baseline\n",
        "558599 / np.sum(size_classes['OBJECTID'])"
      ]
    },
    {
      "cell_type": "code",
      "execution_count": 27,
      "metadata": {
        "id": "ffDpJTBv74nS"
      },
      "outputs": [],
      "source": [
        "from sklearn.model_selection import train_test_split"
      ]
    },
    {
      "cell_type": "code",
      "execution_count": 28,
      "metadata": {
        "id": "m3eI2phQ-y9h"
      },
      "outputs": [],
      "source": [
        "from sklearn.preprocessing import LabelEncoder\n",
        "\n",
        "# Creating a instance of label Encoder.\n",
        "le = LabelEncoder()\n",
        "\n",
        "# Using .fit_transform function to fit label\n",
        "# encoder and return encoded label\n",
        "fires['label'] = le.fit_transform(fires['FIRE_SIZE_CLASS'])"
      ]
    },
    {
      "cell_type": "code",
      "execution_count": 29,
      "metadata": {
        "id": "Hrp6fVgtBeeK"
      },
      "outputs": [],
      "source": [
        "causes = pd.get_dummies(fires['NWCG_GENERAL_CAUSE']).columns"
      ]
    },
    {
      "cell_type": "code",
      "execution_count": 30,
      "metadata": {
        "id": "GwZjX2AXBw4p"
      },
      "outputs": [],
      "source": [
        "fires = pd.concat([fires, pd.get_dummies(fires['NWCG_GENERAL_CAUSE'])], axis=1)"
      ]
    },
    {
      "cell_type": "code",
      "execution_count": 31,
      "metadata": {
        "id": "r_aYuFbH7rG8"
      },
      "outputs": [],
      "source": [
        "data_train, data_test = train_test_split(fires1, test_size=0.2, random_state=42)"
      ]
    },
    {
      "cell_type": "code",
      "execution_count": 32,
      "metadata": {
        "id": "033X3VpW8DyQ"
      },
      "outputs": [],
      "source": [
        "from sklearn.neighbors import KNeighborsClassifier\n",
        "from sklearn.ensemble import RandomForestClassifier\n",
        "from xgboost import XGBClassifier\n",
        "from sklearn.metrics import accuracy_score"
      ]
    },
    {
      "cell_type": "code",
      "execution_count": 33,
      "metadata": {
        "id": "gFLhJIFZ77ck",
        "colab": {
          "base_uri": "https://localhost:8080/",
          "height": 513
        },
        "outputId": "d9ebaac7-250e-4873-d886-e4f680e1cf5a"
      },
      "outputs": [
        {
          "output_type": "error",
          "ename": "KeyError",
          "evalue": "ignored",
          "traceback": [
            "\u001b[0;31m---------------------------------------------------------------------------\u001b[0m",
            "\u001b[0;31mKeyError\u001b[0m                                  Traceback (most recent call last)",
            "\u001b[0;32m/usr/local/lib/python3.10/dist-packages/pandas/core/indexes/base.py\u001b[0m in \u001b[0;36mget_loc\u001b[0;34m(self, key, method, tolerance)\u001b[0m\n\u001b[1;32m   3801\u001b[0m             \u001b[0;32mtry\u001b[0m\u001b[0;34m:\u001b[0m\u001b[0;34m\u001b[0m\u001b[0;34m\u001b[0m\u001b[0m\n\u001b[0;32m-> 3802\u001b[0;31m                 \u001b[0;32mreturn\u001b[0m \u001b[0mself\u001b[0m\u001b[0;34m.\u001b[0m\u001b[0m_engine\u001b[0m\u001b[0;34m.\u001b[0m\u001b[0mget_loc\u001b[0m\u001b[0;34m(\u001b[0m\u001b[0mcasted_key\u001b[0m\u001b[0;34m)\u001b[0m\u001b[0;34m\u001b[0m\u001b[0;34m\u001b[0m\u001b[0m\n\u001b[0m\u001b[1;32m   3803\u001b[0m             \u001b[0;32mexcept\u001b[0m \u001b[0mKeyError\u001b[0m \u001b[0;32mas\u001b[0m \u001b[0merr\u001b[0m\u001b[0;34m:\u001b[0m\u001b[0;34m\u001b[0m\u001b[0;34m\u001b[0m\u001b[0m\n",
            "\u001b[0;32m/usr/local/lib/python3.10/dist-packages/pandas/_libs/index.pyx\u001b[0m in \u001b[0;36mpandas._libs.index.IndexEngine.get_loc\u001b[0;34m()\u001b[0m\n",
            "\u001b[0;32m/usr/local/lib/python3.10/dist-packages/pandas/_libs/index.pyx\u001b[0m in \u001b[0;36mpandas._libs.index.IndexEngine.get_loc\u001b[0;34m()\u001b[0m\n",
            "\u001b[0;32mpandas/_libs/hashtable_class_helper.pxi\u001b[0m in \u001b[0;36mpandas._libs.hashtable.PyObjectHashTable.get_item\u001b[0;34m()\u001b[0m\n",
            "\u001b[0;32mpandas/_libs/hashtable_class_helper.pxi\u001b[0m in \u001b[0;36mpandas._libs.hashtable.PyObjectHashTable.get_item\u001b[0;34m()\u001b[0m\n",
            "\u001b[0;31mKeyError\u001b[0m: 'label'",
            "\nThe above exception was the direct cause of the following exception:\n",
            "\u001b[0;31mKeyError\u001b[0m                                  Traceback (most recent call last)",
            "\u001b[0;32m<ipython-input-33-4eea3e168226>\u001b[0m in \u001b[0;36m<cell line: 11>\u001b[0;34m()\u001b[0m\n\u001b[1;32m      9\u001b[0m \u001b[0;34m\u001b[0m\u001b[0m\n\u001b[1;32m     10\u001b[0m \u001b[0;31m# Train the classifier on the training data\u001b[0m\u001b[0;34m\u001b[0m\u001b[0;34m\u001b[0m\u001b[0m\n\u001b[0;32m---> 11\u001b[0;31m \u001b[0mneigh\u001b[0m \u001b[0;34m=\u001b[0m \u001b[0mneigh\u001b[0m\u001b[0;34m.\u001b[0m\u001b[0mfit\u001b[0m\u001b[0;34m(\u001b[0m\u001b[0mdata_train\u001b[0m\u001b[0;34m[\u001b[0m\u001b[0;34m[\u001b[0m\u001b[0;34m'DISCOVERY_TIME'\u001b[0m\u001b[0;34m,\u001b[0m \u001b[0;34m'CONT_TIME'\u001b[0m\u001b[0;34m]\u001b[0m\u001b[0;34m]\u001b[0m\u001b[0;34m,\u001b[0m \u001b[0mdata_train\u001b[0m\u001b[0;34m[\u001b[0m\u001b[0;34m'label'\u001b[0m\u001b[0;34m]\u001b[0m\u001b[0;34m)\u001b[0m\u001b[0;34m\u001b[0m\u001b[0;34m\u001b[0m\u001b[0m\n\u001b[0m",
            "\u001b[0;32m/usr/local/lib/python3.10/dist-packages/pandas/core/frame.py\u001b[0m in \u001b[0;36m__getitem__\u001b[0;34m(self, key)\u001b[0m\n\u001b[1;32m   3805\u001b[0m             \u001b[0;32mif\u001b[0m \u001b[0mself\u001b[0m\u001b[0;34m.\u001b[0m\u001b[0mcolumns\u001b[0m\u001b[0;34m.\u001b[0m\u001b[0mnlevels\u001b[0m \u001b[0;34m>\u001b[0m \u001b[0;36m1\u001b[0m\u001b[0;34m:\u001b[0m\u001b[0;34m\u001b[0m\u001b[0;34m\u001b[0m\u001b[0m\n\u001b[1;32m   3806\u001b[0m                 \u001b[0;32mreturn\u001b[0m \u001b[0mself\u001b[0m\u001b[0;34m.\u001b[0m\u001b[0m_getitem_multilevel\u001b[0m\u001b[0;34m(\u001b[0m\u001b[0mkey\u001b[0m\u001b[0;34m)\u001b[0m\u001b[0;34m\u001b[0m\u001b[0;34m\u001b[0m\u001b[0m\n\u001b[0;32m-> 3807\u001b[0;31m             \u001b[0mindexer\u001b[0m \u001b[0;34m=\u001b[0m \u001b[0mself\u001b[0m\u001b[0;34m.\u001b[0m\u001b[0mcolumns\u001b[0m\u001b[0;34m.\u001b[0m\u001b[0mget_loc\u001b[0m\u001b[0;34m(\u001b[0m\u001b[0mkey\u001b[0m\u001b[0;34m)\u001b[0m\u001b[0;34m\u001b[0m\u001b[0;34m\u001b[0m\u001b[0m\n\u001b[0m\u001b[1;32m   3808\u001b[0m             \u001b[0;32mif\u001b[0m \u001b[0mis_integer\u001b[0m\u001b[0;34m(\u001b[0m\u001b[0mindexer\u001b[0m\u001b[0;34m)\u001b[0m\u001b[0;34m:\u001b[0m\u001b[0;34m\u001b[0m\u001b[0;34m\u001b[0m\u001b[0m\n\u001b[1;32m   3809\u001b[0m                 \u001b[0mindexer\u001b[0m \u001b[0;34m=\u001b[0m \u001b[0;34m[\u001b[0m\u001b[0mindexer\u001b[0m\u001b[0;34m]\u001b[0m\u001b[0;34m\u001b[0m\u001b[0;34m\u001b[0m\u001b[0m\n",
            "\u001b[0;32m/usr/local/lib/python3.10/dist-packages/pandas/core/indexes/base.py\u001b[0m in \u001b[0;36mget_loc\u001b[0;34m(self, key, method, tolerance)\u001b[0m\n\u001b[1;32m   3802\u001b[0m                 \u001b[0;32mreturn\u001b[0m \u001b[0mself\u001b[0m\u001b[0;34m.\u001b[0m\u001b[0m_engine\u001b[0m\u001b[0;34m.\u001b[0m\u001b[0mget_loc\u001b[0m\u001b[0;34m(\u001b[0m\u001b[0mcasted_key\u001b[0m\u001b[0;34m)\u001b[0m\u001b[0;34m\u001b[0m\u001b[0;34m\u001b[0m\u001b[0m\n\u001b[1;32m   3803\u001b[0m             \u001b[0;32mexcept\u001b[0m \u001b[0mKeyError\u001b[0m \u001b[0;32mas\u001b[0m \u001b[0merr\u001b[0m\u001b[0;34m:\u001b[0m\u001b[0;34m\u001b[0m\u001b[0;34m\u001b[0m\u001b[0m\n\u001b[0;32m-> 3804\u001b[0;31m                 \u001b[0;32mraise\u001b[0m \u001b[0mKeyError\u001b[0m\u001b[0;34m(\u001b[0m\u001b[0mkey\u001b[0m\u001b[0;34m)\u001b[0m \u001b[0;32mfrom\u001b[0m \u001b[0merr\u001b[0m\u001b[0;34m\u001b[0m\u001b[0;34m\u001b[0m\u001b[0m\n\u001b[0m\u001b[1;32m   3805\u001b[0m             \u001b[0;32mexcept\u001b[0m \u001b[0mTypeError\u001b[0m\u001b[0;34m:\u001b[0m\u001b[0;34m\u001b[0m\u001b[0;34m\u001b[0m\u001b[0m\n\u001b[1;32m   3806\u001b[0m                 \u001b[0;31m# If we have a listlike key, _check_indexing_error will raise\u001b[0m\u001b[0;34m\u001b[0m\u001b[0;34m\u001b[0m\u001b[0m\n",
            "\u001b[0;31mKeyError\u001b[0m: 'label'"
          ]
        }
      ],
      "source": [
        "from sklearn.neighbors import KNeighborsClassifier\n",
        "from sklearn.model_selection import train_test_split\n",
        "\n",
        "# Assuming data_train is your training dataset\n",
        "# X_train contains the features, and y_train is the target variable\n",
        "\n",
        "# Initialize KNN classifier with 5 neighbors\n",
        "neigh = KNeighborsClassifier(n_neighbors=5)\n",
        "\n",
        "# Train the classifier on the training data\n",
        "neigh = neigh.fit(data_train[['DISCOVERY_TIME', 'CONT_TIME']], data_train[\"label\"])"
      ]
    },
    {
      "cell_type": "code",
      "execution_count": null,
      "metadata": {
        "id": "54PJYJzc9OEp"
      },
      "outputs": [],
      "source": [
        "y_pred = neigh.predict(data_test[['DISCOVERY_TIME', 'CONT_TIME']])"
      ]
    },
    {
      "cell_type": "code",
      "execution_count": null,
      "metadata": {
        "id": "Naj0B93U8skF"
      },
      "outputs": [],
      "source": [
        "accuracy_score(y_pred,data_test[\"label\"])"
      ]
    },
    {
      "cell_type": "code",
      "execution_count": null,
      "metadata": {
        "id": "FlpbAlHa-UNM"
      },
      "outputs": [],
      "source": [
        " fit model no training data\n",
        "model = XGBClassifier()\n",
        "model = model.fit(data_train[['DISCOVERY_TIME', 'CONT_TIME']], data_train[\"label\"])"
      ]
    },
    {
      "cell_type": "code",
      "execution_count": null,
      "metadata": {
        "id": "LnEfxGPG_oKv"
      },
      "outputs": [],
      "source": [
        "y_pred = model.predict(data_test[['DISCOVERY_TIME', 'CONT_TIME']])"
      ]
    },
    {
      "cell_type": "code",
      "execution_count": null,
      "metadata": {
        "id": "HN5WzZVy_uhV"
      },
      "outputs": [],
      "source": [
        "accuracy_score(y_pred,data_test[\"label\"])"
      ]
    },
    {
      "cell_type": "code",
      "execution_count": null,
      "metadata": {
        "id": "uxOmCM9e_-cQ"
      },
      "outputs": [],
      "source": [
        " fit model no training data\n",
        "rf = RandomForestClassifier()\n",
        "rf = rf.fit(data_train[[\"LONGITUDE\", \"LATITUDE\"]], data_train[\"label\"])"
      ]
    },
    {
      "cell_type": "code",
      "execution_count": null,
      "metadata": {
        "id": "fEXGiHHXAI8r"
      },
      "outputs": [],
      "source": [
        "y_pred = rf.predict(data_test[[\"LONGITUDE\", \"LATITUDE\"]])"
      ]
    },
    {
      "cell_type": "code",
      "execution_count": null,
      "metadata": {
        "id": "rp3tOOCBAI8s"
      },
      "outputs": [],
      "source": [
        "accuracy_score(y_pred,data_test[\"label\"])"
      ]
    },
    {
      "cell_type": "code",
      "execution_count": null,
      "metadata": {
        "id": "T4wtVADvATXn"
      },
      "outputs": [],
      "source": [
        "plt.figure(figsize=(40,20))\n",
        "plt.scatter(y=fires[\"LATITUDE\"], x=fires[\"LONGITUDE\"], c = np.log(fires[\"FIRE_SIZE\"]));"
      ]
    },
    {
      "cell_type": "code",
      "execution_count": null,
      "metadata": {
        "id": "UWhHBoR54m1G"
      },
      "outputs": [],
      "source": [
        "fires.columns"
      ]
    },
    {
      "cell_type": "markdown",
      "metadata": {
        "id": "qGdt87AaWDF_"
      },
      "source": [
        "## Regressing the fire size"
      ]
    },
    {
      "cell_type": "code",
      "execution_count": null,
      "metadata": {
        "id": "riEgT2cyx-o5"
      },
      "outputs": [],
      "source": [
        "def minmax_scale(var):\n",
        "  min_var = np.min(var)\n",
        "  max_var = np.max(var)\n",
        "  range_var = max_var - min_var\n",
        "  return (var - min_var) / range_var"
      ]
    },
    {
      "cell_type": "code",
      "execution_count": null,
      "metadata": {
        "id": "cphXlb_2ycUf"
      },
      "outputs": [],
      "source": [
        "def std_scale(var):\n",
        "  mean_var = np.mean(var)\n",
        "  std_var = np.std(var)\n",
        "  return (var - mean_var) / std_var"
      ]
    },
    {
      "cell_type": "code",
      "execution_count": null,
      "metadata": {
        "id": "pAw_kvpe_La8"
      },
      "outputs": [],
      "source": [
        "fires_with_sizes = big.dropna(subset = [\"FIRE_SIZE\"])"
      ]
    },
    {
      "cell_type": "code",
      "execution_count": null,
      "metadata": {
        "id": "rrb5CFWW_mWx"
      },
      "outputs": [],
      "source": [
        "plt.hist(fires_with_sizes[\"FIRE_SIZE\"], bins = 100);"
      ]
    },
    {
      "cell_type": "code",
      "execution_count": null,
      "metadata": {
        "id": "HVhHzhKW_YqA"
      },
      "outputs": [],
      "source": [
        "fires_with_sizes[\"FIRE_SIZE\"] = np.log(fires_with_sizes[\"FIRE_SIZE\"])"
      ]
    },
    {
      "cell_type": "code",
      "execution_count": null,
      "metadata": {
        "id": "IhFdo5Oj_8hx"
      },
      "outputs": [],
      "source": [
        "plt.hist(fires_with_sizes[\"FIRE_SIZE\"], bins = 100);"
      ]
    },
    {
      "cell_type": "code",
      "execution_count": null,
      "metadata": {
        "id": "y0cEx2dtYMCq"
      },
      "outputs": [],
      "source": [
        "#hawaii = fires_with_sizes[np.logical_and(fires_with_sizes['LATITUDE']<30, fires_with_sizes['LONGITUDE']<-140)]\n",
        "#pr = fires_with_sizes[np.logical_and(fires_with_sizes['LATITUDE']<22, fires_with_sizes['LONGITUDE']>-70)]\n",
        "#passage = fires_with_sizes[np.logical_and(fires_with_sizes['LATITUDE']>50,np.logical_and(fires_with_sizes['LATITUDE']<61, fires_with_sizes['LONGITUDE']>-138))]\n",
        "#alaska = fires_with_sizes[np.logical_and(fires_with_sizes['LATITUDE']>50, fires_with_sizes['LONGITUDE']<=-138)]"
      ]
    },
    {
      "cell_type": "code",
      "execution_count": null,
      "metadata": {
        "id": "0phSCEG0YuvL"
      },
      "outputs": [],
      "source": [
        "def region(lat, lng):\n",
        "  if lat < 30 and lng < -140: return \"Hawaii\"\n",
        "  if lat < 22 and lng > -70: return \"PuertoRico\"\n",
        "  if lat > 50 and lat < 61 and lng > -138: return \"NWPassage\"\n",
        "  if lat > 50 and lng <= -138: return \"Alaska\"\n",
        "  return \"Continental\""
      ]
    },
    {
      "cell_type": "code",
      "execution_count": null,
      "metadata": {
        "id": "3ek3w52hakof"
      },
      "outputs": [],
      "source": [
        "fires_with_sizes['Region'] = fires_with_sizes.apply(lambda x: region(x['LATITUDE'], x['LONGITUDE']), axis=1)"
      ]
    },
    {
      "cell_type": "code",
      "execution_count": null,
      "metadata": {
        "id": "bvGUkwsgzOml"
      },
      "outputs": [],
      "source": [
        "fires_with_sizes = fires_with_sizes[fires_with_sizes['Region']=='Continental']"
      ]
    },
    {
      "cell_type": "code",
      "execution_count": null,
      "metadata": {
        "id": "kE_A4h7w0m1Z"
      },
      "outputs": [],
      "source": [
        "fires_with_sizes[\"FIRE_SIZE\"] = minmax_scale(fires_with_sizes[\"FIRE_SIZE\"])*100\n",
        "fires_with_sizes[\"LATITUDE\"] = minmax_scale(fires_with_sizes[\"LATITUDE\"])\n",
        "fires_with_sizes[\"LONGITUDE\"] = minmax_scale(fires_with_sizes[\"LONGITUDE\"])"
      ]
    },
    {
      "cell_type": "code",
      "execution_count": null,
      "metadata": {
        "id": "NmJTR3hMGid0"
      },
      "outputs": [],
      "source": [
        "from sklearn.model_selection import train_test_split\n",
        "import statsmodels.api as sm\n",
        "import statsmodels.formula.api as smf\n",
        "import seaborn as sns\n",
        "from scipy.stats import pearsonr, spearmanr"
      ]
    },
    {
      "cell_type": "code",
      "execution_count": null,
      "metadata": {
        "id": "d8DY75YpT7AM"
      },
      "outputs": [],
      "source": [
        "def coefplot(results, subject):\n",
        "    '''\n",
        "    Takes in results of OLS model and returns a plot of\n",
        "    the coefficients with 95% confidence intervals.\n",
        "\n",
        "    Removes intercept, so if uncentered will return error.\n",
        "    '''\n",
        "    # Create dataframe of results summary\n",
        "    coef_df = pd.DataFrame(results.summary().tables[1].data)\n",
        "\n",
        "    # Add column names\n",
        "    coef_df.columns = coef_df.iloc[0]\n",
        "\n",
        "    # Drop the extra row with column labels\n",
        "    coef_df=coef_df.drop(0)\n",
        "\n",
        "    # Set index to variable names\n",
        "    coef_df = coef_df.set_index(coef_df.columns[0])\n",
        "\n",
        "    # Change datatype from object to float\n",
        "    coef_df = coef_df.astype(float)\n",
        "\n",
        "    # Get errors; (coef - lower bound of conf interval)\n",
        "    params = results.params\n",
        "    errors = results.conf_int(0.05).iloc[:, 0]\n",
        "    errors = params - errors\n",
        "\n",
        "    # Append errors column to dataframe\n",
        "    coef_df['errors'] = errors\n",
        "\n",
        "    # Drop the constant for plotting\n",
        "    coef_df = coef_df.drop(['Intercept'])\n",
        "\n",
        "    # Sort values by coef ascending\n",
        "    #coef_df = coef_df.sort_values(by=['coef'])\n",
        "\n",
        "    ### Plot Coefficients ###\n",
        "\n",
        "    # x-labels\n",
        "    variables = list(coef_df.index.values)\n",
        "\n",
        "    # Add variables column to dataframe\n",
        "    coef_df['variables'] = variables\n",
        "    display(coef_df)\n",
        "\n",
        "    # Set sns plot style back to 'poster'\n",
        "    # This will make bars wide on plot\n",
        "    sns.set_context(\"poster\")\n",
        "\n",
        "    # Define figure, axes, and plot\n",
        "    fig, ax = plt.subplots(figsize=(15, 10))\n",
        "\n",
        "    # Error bars for 95% confidence interval\n",
        "    # Can increase capsize to add whiskers\n",
        "    coef_df.plot(x='variables', y='coef', kind='barh',\n",
        "                 ax=ax, color='none', fontsize=22,\n",
        "                 ecolor='steelblue',capsize=0,\n",
        "                 xerr='errors', legend=False)\n",
        "\n",
        "    # Set title & labels\n",
        "    plt.title('Coefficients for '+subject+' model w/ 95% CIs',fontsize=30)\n",
        "    ax.set_ylabel('Coefficients',fontsize=22)\n",
        "    ax.set_xlabel('',fontsize=22)\n",
        "\n",
        "    # Coefficients\n",
        "    ax.scatter(y=np.arange(coef_df.shape[0]),\n",
        "               marker='o', s=80,\n",
        "               x=coef_df['coef'], color='steelblue')\n",
        "\n",
        "    # Line to define zero on the y-axis\n",
        "    ax.axvline(x=0, linestyle='--', color='red', linewidth=1)\n",
        "\n",
        "    plt.tight_layout()\n",
        "    plt.savefig(subject+\"_coefplot.pdf\")\n",
        "\n",
        "    return None"
      ]
    },
    {
      "cell_type": "code",
      "execution_count": null,
      "metadata": {
        "id": "Fp6FeHuJ_mpC"
      },
      "outputs": [],
      "source": [
        "def metrics(mod):\n",
        "  return np.round(mod.aic), np.round(mod.llf), np.round(mod.rsquared, 3), np.round(np.mean(np.abs(fires_with_sizes['FIRE_SIZE'] - mod.fittedvalues)), 3), np.round(mod.fvalue)"
      ]
    },
    {
      "cell_type": "code",
      "execution_count": null,
      "metadata": {
        "id": "ROc6NgUqBJb2"
      },
      "outputs": [],
      "source": [
        "mod1 = smf.ols(formula='FIRE_SIZE ~ C(Region) + LATITUDE + LONGITUDE', data=fires_with_sizes)"
      ]
    },
    {
      "cell_type": "code",
      "execution_count": null,
      "metadata": {
        "id": "QaDTkFUazmxj"
      },
      "outputs": [],
      "source": [
        "mod1 = smf.ols(formula='FIRE_SIZE ~ LATITUDE + LONGITUDE', data=fires_with_sizes)"
      ]
    },
    {
      "cell_type": "code",
      "execution_count": null,
      "metadata": {
        "id": "qfeJOxa0BLUS"
      },
      "outputs": [],
      "source": [
        "mod1 = mod1.fit()"
      ]
    },
    {
      "cell_type": "code",
      "execution_count": null,
      "metadata": {
        "id": "eUQEiR0ABRwH"
      },
      "outputs": [],
      "source": [
        "coefplot(mod1, \"FIRE_SIZE\")"
      ]
    },
    {
      "cell_type": "code",
      "execution_count": null,
      "metadata": {
        "id": "xUWB0ZAoCOuS"
      },
      "outputs": [],
      "source": [
        "metrics(mod1)"
      ]
    },
    {
      "cell_type": "code",
      "execution_count": null,
      "metadata": {
        "id": "lDehD6wPb8FR"
      },
      "outputs": [],
      "source": [
        "metrics(mod1)"
      ]
    },
    {
      "cell_type": "code",
      "execution_count": null,
      "metadata": {
        "id": "uNsCI3Jpxouu"
      },
      "outputs": [],
      "source": [
        "metrics(mod1)"
      ]
    },
    {
      "cell_type": "code",
      "execution_count": null,
      "metadata": {
        "id": "T9MhFVLNzsJG"
      },
      "outputs": [],
      "source": [
        "metrics(mod1)"
      ]
    },
    {
      "cell_type": "code",
      "execution_count": null,
      "metadata": {
        "id": "L9C5j3aVdAqy"
      },
      "outputs": [],
      "source": [
        "plt.figure(figsize=(40,20))\n",
        "plt.scatter(y=fires_with_sizes[\"LATITUDE\"], x=fires_with_sizes[\"LONGITUDE\"], c = mod1.fittedvalues);"
      ]
    },
    {
      "cell_type": "code",
      "execution_count": null,
      "metadata": {
        "id": "DQp40ALZxunb"
      },
      "outputs": [],
      "source": [
        "plt.figure(figsize=(40,20))\n",
        "plt.scatter(y=fires_with_sizes[\"LATITUDE\"], x=fires_with_sizes[\"LONGITUDE\"], c = mod1.fittedvalues);"
      ]
    },
    {
      "cell_type": "code",
      "execution_count": null,
      "metadata": {
        "id": "fqEkgsylDtru"
      },
      "outputs": [],
      "source": [
        "plt.figure(figsize=(15,10))\n",
        "plt.scatter(mod1.fittedvalues, fires_with_sizes[\"FIRE_SIZE\"]);"
      ]
    },
    {
      "cell_type": "code",
      "execution_count": null,
      "metadata": {
        "id": "6VFwW4cl0uf9"
      },
      "outputs": [],
      "source": [
        "fires_with_sizes.columns"
      ]
    },
    {
      "cell_type": "code",
      "execution_count": null,
      "metadata": {
        "id": "V6sf9Dbn05U7"
      },
      "outputs": [],
      "source": [
        "fires_with_sizes = fires_with_sizes.rename(columns={\"Miscellaneous.Land Area\":\"county_area\", \"Population.2020 Population\":\"county_pop\", 'Income.Per Capita Income':\"Income\"})"
      ]
    },
    {
      "cell_type": "code",
      "execution_count": null,
      "metadata": {
        "id": "QrC0IpJ_J4YW"
      },
      "outputs": [],
      "source": [
        "plt.hist(np.log(fires_with_sizes['county_area']), bins=100);"
      ]
    },
    {
      "cell_type": "code",
      "execution_count": null,
      "metadata": {
        "id": "MOsA4Qs4KI3-"
      },
      "outputs": [],
      "source": [
        "plt.hist(np.log(fires_with_sizes['county_pop']), bins=100);"
      ]
    },
    {
      "cell_type": "code",
      "execution_count": null,
      "metadata": {
        "id": "FHBb7XO1PVmd"
      },
      "outputs": [],
      "source": [
        "plt.hist(np.log(fires_with_sizes['Income']), bins=100);"
      ]
    },
    {
      "cell_type": "code",
      "execution_count": null,
      "metadata": {
        "id": "rhRemLHlJ3BO"
      },
      "outputs": [],
      "source": [
        "fires_with_sizes[\"county_area\"] = std_scale(np.log(fires_with_sizes[\"county_area\"]))\n",
        "fires_with_sizes[\"county_pop\"] = std_scale(np.log(fires_with_sizes[\"county_pop\"]))\n",
        "fires_with_sizes[\"Income\"] = std_scale(np.log(fires_with_sizes[\"Income\"]))"
      ]
    },
    {
      "cell_type": "code",
      "execution_count": null,
      "metadata": {
        "id": "GRfjNVHq0odf"
      },
      "outputs": [],
      "source": [
        "mod2 = smf.ols(formula='FIRE_SIZE ~ LATITUDE + LONGITUDE + county_area + county_pop', data=fires_with_sizes)"
      ]
    },
    {
      "cell_type": "code",
      "execution_count": null,
      "metadata": {
        "id": "G7n5Leku0odf"
      },
      "outputs": [],
      "source": [
        "mod2 = mod2.fit()"
      ]
    },
    {
      "cell_type": "code",
      "execution_count": null,
      "metadata": {
        "id": "hrr18jxc1ULr"
      },
      "outputs": [],
      "source": [
        "mod2.summary()"
      ]
    },
    {
      "cell_type": "code",
      "execution_count": null,
      "metadata": {
        "id": "FyzFGaFh2jBz"
      },
      "outputs": [],
      "source": [
        "def make_coefdf(mod):\n",
        "    params = mod.params[:5]\n",
        "    errors = mod.conf_int(0.05).iloc[:5, 0]\n",
        "    errors = params - errors\n",
        "    return pd.DataFrame({\"coef\":params,\n",
        "                         \"errors\":errors})"
      ]
    },
    {
      "cell_type": "code",
      "execution_count": null,
      "metadata": {
        "id": "67IbXogv2lFY"
      },
      "outputs": [],
      "source": [
        "make_coefdf(mod2)"
      ]
    },
    {
      "cell_type": "code",
      "execution_count": null,
      "metadata": {
        "id": "cvKStDrELK9M"
      },
      "outputs": [],
      "source": [
        "mod3 = smf.ols(formula='FIRE_SIZE ~ LATITUDE + LONGITUDE + county_area * county_pop', data=fires_with_sizes)"
      ]
    },
    {
      "cell_type": "code",
      "execution_count": null,
      "metadata": {
        "id": "ANKdza6xLK9N"
      },
      "outputs": [],
      "source": [
        "mod3 = mod3.fit()"
      ]
    },
    {
      "cell_type": "code",
      "execution_count": null,
      "metadata": {
        "id": "1W45U4fk0odg"
      },
      "outputs": [],
      "source": [
        "coefplot(mod3, \"FIRE_SIZE\")"
      ]
    },
    {
      "cell_type": "code",
      "execution_count": null,
      "metadata": {
        "id": "Jb0wrZYBPlP6"
      },
      "outputs": [],
      "source": [
        "mod4 = smf.ols(formula='FIRE_SIZE ~ LATITUDE + LONGITUDE + county_area * county_pop * Income', data=fires_with_sizes)"
      ]
    },
    {
      "cell_type": "code",
      "execution_count": null,
      "metadata": {
        "id": "L9RABlEhPlP7"
      },
      "outputs": [],
      "source": [
        "mod4 = mod4.fit()"
      ]
    },
    {
      "cell_type": "code",
      "execution_count": null,
      "metadata": {
        "id": "YHYU8T6-PlP8"
      },
      "outputs": [],
      "source": [
        "coefplot(mod4, \"FIRE_SIZE\")"
      ]
    },
    {
      "cell_type": "code",
      "execution_count": null,
      "metadata": {
        "id": "px3DhyOK3kL7"
      },
      "outputs": [],
      "source": [
        "metrics(mod1)"
      ]
    },
    {
      "cell_type": "code",
      "execution_count": null,
      "metadata": {
        "id": "aBIvF7Dvz7cW"
      },
      "outputs": [],
      "source": [
        "metrics(mod2)"
      ]
    },
    {
      "cell_type": "code",
      "execution_count": null,
      "metadata": {
        "id": "nFzkF0_iz7f5"
      },
      "outputs": [],
      "source": [
        "metrics(mod3)"
      ]
    },
    {
      "cell_type": "code",
      "execution_count": null,
      "metadata": {
        "id": "i2oZUVdXP3m3"
      },
      "outputs": [],
      "source": [
        "metrics(mod4)"
      ]
    },
    {
      "cell_type": "markdown",
      "metadata": {
        "id": "C682NqrVGHRN"
      },
      "source": [
        "### Stuff for JEI Paper"
      ]
    },
    {
      "cell_type": "markdown",
      "metadata": {
        "id": "xgSMQC7QGMLR"
      },
      "source": [
        "1. Use everything up to this point to make the claim that we are modeling the fire sizes in a good way.\n",
        "2. Find the country-wide residuals based on the best model."
      ]
    },
    {
      "cell_type": "code",
      "execution_count": null,
      "metadata": {
        "id": "wuvvSsT1MIuZ"
      },
      "outputs": [],
      "source": [
        "plt.figure(figsize=(40,20))\n",
        "plt.scatter(y=fires_with_sizes[\"LATITUDE\"], x=fires_with_sizes[\"LONGITUDE\"], c = mod4.resid, alpha=0.3);"
      ]
    },
    {
      "cell_type": "markdown",
      "metadata": {
        "id": "jMrrixQdGwq-"
      },
      "source": [
        "3. Restrict the view to just California, Oregon, and Washington. (You could alternatively choose the southeast based on whatever you think your dad's connection will like better.)"
      ]
    },
    {
      "cell_type": "code",
      "execution_count": null,
      "metadata": {
        "id": "eZ4s0QeAHKMr"
      },
      "outputs": [],
      "source": [
        "# Make sure that these are spelled right and abbreviated the same way in the data\n",
        "california = fires_with_sizes[fires_with_sizes['STATE']=='CA']\n",
        "oregon = fires_with_sizes[fires_with_sizes['STATE']=='OR']\n",
        "washington = fires_with_sizes[fires_with_sizes['STATE']=='WA']"
      ]
    },
    {
      "cell_type": "markdown",
      "metadata": {
        "id": "nJvX1jRcHljq"
      },
      "source": [
        "4. Perform 2 sample t-tests on the residuals"
      ]
    },
    {
      "cell_type": "code",
      "execution_count": null,
      "metadata": {
        "id": "9kyKA9YtILdz"
      },
      "outputs": [],
      "source": [
        "import scipy.stats as stats"
      ]
    },
    {
      "cell_type": "code",
      "execution_count": null,
      "metadata": {
        "id": "z7sY2iYvHq1B"
      },
      "outputs": [],
      "source": [
        "ca_pred = california['FIRE_SIZE'] - mod4.predict(california)\n",
        "or_pred = oregon['FIRE_SIZE']     - mod4.predict(oregon)\n",
        "wa_pred = washington['FIRE_SIZE'] - mod4.predict(washington)"
      ]
    },
    {
      "cell_type": "code",
      "execution_count": null,
      "metadata": {
        "id": "g_pykgxJIPQz"
      },
      "outputs": [],
      "source": [
        "# Perform the two sample t-test with equal variances\n",
        "stats.ttest_ind(a=ca_pred, b=or_pred, equal_var=True)"
      ]
    },
    {
      "cell_type": "code",
      "execution_count": null,
      "metadata": {
        "id": "gfQDb4xuIUip"
      },
      "outputs": [],
      "source": [
        "# Perform the two sample t-test with equal variances\n",
        "stats.ttest_ind(a=ca_pred, b=wa_pred, equal_var=True)"
      ]
    },
    {
      "cell_type": "code",
      "execution_count": null,
      "metadata": {
        "id": "gj6v6HnVIUyc"
      },
      "outputs": [],
      "source": [
        "# Perform the two sample t-test with equal variances\n",
        "stats.ttest_ind(a=wa_pred, b=or_pred, equal_var=True)"
      ]
    },
    {
      "cell_type": "markdown",
      "metadata": {
        "id": "x3VeBPzYIh1l"
      },
      "source": [
        "Null hypothesis: The reported fire sizes among California, Oregon, and Washington are NOT significantly different after accounting for county area, population, and income.\n",
        "\n",
        "Alternative hypothesis: The reported fire sizes among California, Oregon, and Washington are significantly different even after accounting for county area, population, and income.\n",
        "\n",
        "Test statistic: two sample t-value"
      ]
    },
    {
      "cell_type": "code",
      "execution_count": null,
      "metadata": {
        "id": "duhEsyzfI-Uy"
      },
      "outputs": [],
      "source": [
        "import pandas as pd\n",
        "import numpy as np\n",
        "from scipy import stats\n",
        "\n",
        "# Assuming ca_pred, or_pred, wa_pred, and nm_pred are the arrays of residuals for each state\n",
        "# Replace these with the actual variables from your code\n",
        "\n",
        "# Perform the two sample t-test with equal variances\n",
        "t_stat_ca_or, p_value_ca_or = stats.ttest_ind(a=ca_pred, b=or_pred, equal_var=True)\n",
        "\n",
        "# Perform the two sample t-test with equal variances\n",
        "t_stat_ca_wa, p_value_ca_wa = stats.ttest_ind(a=ca_pred, b=wa_pred, equal_var=True)\n",
        "\n",
        "# Perform the two sample t-test with equal variances\n",
        "t_stat_wa_or, p_value_wa_or = stats.ttest_ind(a=wa_pred, b=or_pred, equal_var=True)\n",
        "\n",
        "# Perform the two sample t-test with equal variances\n",
        "t_stat_ca_nm, p_value_ca_nm = stats.ttest_ind(a=ca_pred, b=nm_pred, equal_var=True)\n",
        "\n",
        "# Perform the two sample t-test with equal variances\n",
        "t_stat_wa_nm, p_value_wa_nm = stats.ttest_ind(a=wa_pred, b=nm_pred, equal_var=True)\n",
        "\n",
        "# Perform the two sample t-test with equal variances\n",
        "t_stat_or_nm, p_value_or_nm = stats.ttest_ind(a=or_pred, b=nm_pred, equal_var=True)\n",
        "\n",
        "# Print the results\n",
        "print(\"California vs. Oregon: t-statistic =\", t_stat_ca_or, \"p-value =\", p_value_ca_or)\n",
        "print(\"California vs. Washington: t-statistic =\", t_stat_ca_wa, \"p-value =\", p_value_ca_wa)\n",
        "print(\"Washington vs. Oregon: t-statistic =\", t_stat_wa_or, \"p-value =\", p_value_wa_or)\n",
        "print(\"California vs. New Mexico: t-statistic =\", t_stat_ca_nm, \"p-value =\", p_value_ca_nm)\n",
        "print(\"Washington vs. New Mexico: t-statistic =\", t_stat_wa_nm, \"p-value =\", p_value_wa_nm)\n",
        "print(\"Oregon vs. New Mexico: t-statistic =\", t_stat_or_nm, \"p-value =\", p_value_or_nm)"
      ]
    },
    {
      "cell_type": "markdown",
      "metadata": {
        "id": "k7aowi_sF85U"
      },
      "source": [
        "### Old Stuff"
      ]
    },
    {
      "cell_type": "markdown",
      "metadata": {
        "id": "9YJj5VR8Hk2z"
      },
      "source": []
    },
    {
      "cell_type": "code",
      "execution_count": null,
      "metadata": {
        "id": "EnXkWKXqz7is"
      },
      "outputs": [],
      "source": [
        "#AIC LLF R^2 MAE F-STAT\n",
        "#V   ^   ^   V   ^"
      ]
    },
    {
      "cell_type": "code",
      "execution_count": null,
      "metadata": {
        "id": "2Q9CPfNdz7mH"
      },
      "outputs": [],
      "source": [
        "plt.figure(figsize=(40,20))\n",
        "plt.scatter(y=fires_with_sizes[\"LATITUDE\"], x=fires_with_sizes[\"LONGITUDE\"], c = mod2.resid);"
      ]
    },
    {
      "cell_type": "code",
      "execution_count": null,
      "metadata": {
        "id": "OoXmynLdMInz"
      },
      "outputs": [],
      "source": [
        "plt.figure(figsize=(40,20))\n",
        "plt.scatter(y=fires_with_sizes[\"LATITUDE\"], x=fires_with_sizes[\"LONGITUDE\"], c = mod3.resid, alpha=0.3);"
      ]
    },
    {
      "cell_type": "code",
      "execution_count": null,
      "metadata": {
        "id": "WpTB2sVMz7pN"
      },
      "outputs": [],
      "source": []
    },
    {
      "cell_type": "code",
      "execution_count": null,
      "metadata": {
        "id": "L4FHVLzdz7sn"
      },
      "outputs": [],
      "source": []
    },
    {
      "cell_type": "code",
      "execution_count": null,
      "metadata": {
        "id": "qaPXcxNwz7v_"
      },
      "outputs": [],
      "source": []
    },
    {
      "cell_type": "code",
      "execution_count": null,
      "metadata": {
        "id": "MexhgJvyz7zG"
      },
      "outputs": [],
      "source": []
    },
    {
      "cell_type": "code",
      "execution_count": null,
      "metadata": {
        "id": "-BeKWz6FWao6"
      },
      "outputs": [],
      "source": [
        "fires_with_sizes['pred'] = mod1.fittedvalues"
      ]
    },
    {
      "cell_type": "code",
      "execution_count": null,
      "metadata": {
        "id": "Xa0kTrFSWax_"
      },
      "outputs": [],
      "source": [
        "pr = fires_with_sizes[fires_with_sizes['pred']>50]"
      ]
    },
    {
      "cell_type": "code",
      "execution_count": null,
      "metadata": {
        "id": "icZBCdg7Wa0y"
      },
      "outputs": [],
      "source": [
        "pr[['LATITUDE', 'LONGITUDE']]"
      ]
    },
    {
      "cell_type": "code",
      "execution_count": null,
      "metadata": {
        "id": "56Vom3-TEQ36"
      },
      "outputs": [],
      "source": [
        "from sklearn.ensemble import RandomForestRegressor"
      ]
    },
    {
      "cell_type": "code",
      "execution_count": null,
      "metadata": {
        "id": "8-Cy8TwlEi5R"
      },
      "outputs": [],
      "source": [
        "X_train, X_test, y_train, y_test = train_test_split(fires_with_sizes[[\"LONGITUDE\",\"LATITUDE\"]], fires_with_sizes[\"FIRE_SIZE\"], test_size = 0.2, random_state=35)"
      ]
    },
    {
      "cell_type": "code",
      "execution_count": null,
      "metadata": {
        "id": "gJyiMi69FEju"
      },
      "outputs": [],
      "source": [
        "rfr_model = RandomForestRegressor(random_state=1, max_depth=10)\n",
        "rfr_model.fit(X_train,y_train)"
      ]
    },
    {
      "cell_type": "code",
      "execution_count": null,
      "metadata": {
        "id": "h5bSgu3hFNIv"
      },
      "outputs": [],
      "source": [
        "y_pred = rfr_model.predict(X_test)"
      ]
    },
    {
      "cell_type": "code",
      "execution_count": null,
      "metadata": {
        "id": "v-krZNG7FuSm"
      },
      "outputs": [],
      "source": [
        "np.round(np.mean(np.abs(y_test - y_pred)), 3)"
      ]
    },
    {
      "cell_type": "code",
      "execution_count": null,
      "metadata": {
        "id": "nB7COSkVHJf9"
      },
      "outputs": [],
      "source": [
        "len(rfr_model.estimators_)"
      ]
    },
    {
      "cell_type": "code",
      "execution_count": null,
      "metadata": {
        "id": "B3S33OneI1qH"
      },
      "outputs": [],
      "source": [
        "resid = y_test - y_pred"
      ]
    },
    {
      "cell_type": "code",
      "execution_count": null,
      "metadata": {
        "id": "Idmq9IdWJEFq"
      },
      "outputs": [],
      "source": [
        "sigma = np.std(resid)  * np.sqrt((len(y_test)-1000)/len(y_test))"
      ]
    },
    {
      "cell_type": "code",
      "execution_count": null,
      "metadata": {
        "id": "nk_8yW6ysTul"
      },
      "outputs": [],
      "source": []
    }
  ],
  "metadata": {
    "colab": {
      "provenance": [],
      "include_colab_link": true
    },
    "kernelspec": {
      "display_name": "Python 3",
      "name": "python3"
    },
    "language_info": {
      "name": "python"
    }
  },
  "nbformat": 4,
  "nbformat_minor": 0
}
